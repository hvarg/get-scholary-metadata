{
 "cells": [
  {
   "cell_type": "markdown",
   "id": "885f1008-523d-497d-bdc5-cc212fe57a6b",
   "metadata": {},
   "source": [
    "# CrossRef API\n",
    "\n",
    "We are using the [habanero](https://github.com/sckott/habanero) python implementation of the [Crossref API](https://api.crossref.org/swagger-ui/index.html)"
   ]
  },
  {
   "cell_type": "code",
   "execution_count": null,
   "id": "17014284-f111-40a8-a31d-51607f180411",
   "metadata": {},
   "outputs": [],
   "source": []
  },
  {
   "cell_type": "code",
   "execution_count": 12,
   "id": "3e688c4f-aacd-469e-9d36-cc38696042a9",
   "metadata": {},
   "outputs": [],
   "source": [
    "from habanero import Crossref"
   ]
  },
  {
   "cell_type": "code",
   "execution_count": 30,
   "id": "e857816a-282c-4fb4-b2b3-a5ee1c153026",
   "metadata": {
    "scrolled": true
   },
   "outputs": [],
   "source": [
    "cr = Crossref()"
   ]
  },
  {
   "cell_type": "code",
   "execution_count": 31,
   "id": "3e1b5167-c64b-446d-a806-eead50a22931",
   "metadata": {},
   "outputs": [],
   "source": [
    "# Works API, get all the papers (20 per page)\n",
    "all_works = cr.works()"
   ]
  },
  {
   "cell_type": "code",
   "execution_count": 33,
   "id": "bb129153-8f83-4eb6-8b0e-ca5a1b096b58",
   "metadata": {},
   "outputs": [
    {
     "name": "stdout",
     "output_type": "stream",
     "text": [
      "157136227\n"
     ]
    }
   ],
   "source": [
    "# Print number of works:\n",
    "if all_works[\"status\"] == \"ok\":\n",
    "    print(all_works[\"message\"][\"total-results\"])"
   ]
  },
  {
   "cell_type": "code",
   "execution_count": 17,
   "id": "87c50e70-5b4e-49a8-8a68-0fcf810a719a",
   "metadata": {
    "scrolled": true
   },
   "outputs": [
    {
     "data": {
      "text/plain": [
       "['affiliation',\n",
       " 'alternative_id',\n",
       " 'archive',\n",
       " 'article_number',\n",
       " 'assertion',\n",
       " 'assertion_group',\n",
       " 'award_funder',\n",
       " 'award_number',\n",
       " 'category_name',\n",
       " 'container_title',\n",
       " 'content_domain',\n",
       " 'directory',\n",
       " 'doi',\n",
       " 'from_accepted_date',\n",
       " 'from_created_date',\n",
       " 'from_deposit_date',\n",
       " 'from_index_date',\n",
       " 'from_online_pub_date',\n",
       " 'from_posted_date',\n",
       " 'from_print_pub_date',\n",
       " 'from_pub_date',\n",
       " 'from_update_date',\n",
       " 'full_text_application',\n",
       " 'full_text_type',\n",
       " 'full_text_version',\n",
       " 'funder',\n",
       " 'has_abstract',\n",
       " 'has_affiliation',\n",
       " 'has_archive',\n",
       " 'has_assertion',\n",
       " 'has_authenticated_orcid',\n",
       " 'has_clinical_trial_number',\n",
       " 'has_content_domain',\n",
       " 'has_crossmark_restriction',\n",
       " 'has_full_text',\n",
       " 'has_funder',\n",
       " 'has_license',\n",
       " 'has_orcid',\n",
       " 'has_references',\n",
       " 'has_relation',\n",
       " 'has_update_policy',\n",
       " 'is_update',\n",
       " 'issn',\n",
       " 'license_delay',\n",
       " 'license_url',\n",
       " 'license_version',\n",
       " 'location',\n",
       " 'member',\n",
       " 'orcid',\n",
       " 'prefix',\n",
       " 'public_references',\n",
       " 'publisher_name',\n",
       " 'relation_object',\n",
       " 'relation_object_type',\n",
       " 'relation_type',\n",
       " 'type',\n",
       " 'type_name',\n",
       " 'until_accepted_date',\n",
       " 'until_created_date',\n",
       " 'until_deposit_date',\n",
       " 'until_index_date',\n",
       " 'until_online_pub_date',\n",
       " 'until_posted_date',\n",
       " 'until_print_pub_date',\n",
       " 'until_pub_date',\n",
       " 'until_update_date',\n",
       " 'updates']"
      ]
     },
     "execution_count": 17,
     "metadata": {},
     "output_type": "execute_result"
    }
   ],
   "source": [
    "# We can use the following filters:\n",
    "cr.filter_names()"
   ]
  },
  {
   "cell_type": "code",
   "execution_count": 25,
   "id": "b91d3336-5a64-4c4f-86eb-e060e4f94cec",
   "metadata": {},
   "outputs": [],
   "source": [
    "# Filtering out papers without abstract metadata. Other papers also have abstract but was not ingested into the metadata\n",
    "works_with_abstracts = cr.works(filter = {'has_abstract': True})"
   ]
  },
  {
   "cell_type": "code",
   "execution_count": 29,
   "id": "f8cf78ed-7ed3-414a-aa22-85a35cdad7c3",
   "metadata": {},
   "outputs": [
    {
     "name": "stdout",
     "output_type": "stream",
     "text": [
      "30432983\n"
     ]
    }
   ],
   "source": [
    "# Print number of works with abstract:\n",
    "if works_with_abstracts[\"status\"] == \"ok\":\n",
    "    print(works_with_abstracts[\"message\"][\"total-results\"])"
   ]
  },
  {
   "cell_type": "code",
   "execution_count": 34,
   "id": "96b2e5dc-fa5b-48bd-ba23-5598f65d35de",
   "metadata": {},
   "outputs": [],
   "source": [
    "# Abstract and full-text\n",
    "works_with_abstracts_and_full_text = cr.works(filter = {'has_abstract': True, 'has_full_text': True})"
   ]
  },
  {
   "cell_type": "code",
   "execution_count": 35,
   "id": "90413a9f-a3ec-4ce9-a1c9-131421ca2595",
   "metadata": {},
   "outputs": [
    {
     "data": {
      "text/plain": [
       "26556010"
      ]
     },
     "execution_count": 35,
     "metadata": {},
     "output_type": "execute_result"
    }
   ],
   "source": [
    "works_with_abstracts_and_full_text[\"message\"][\"total-results\"]"
   ]
  },
  {
   "cell_type": "code",
   "execution_count": 66,
   "id": "494fd0a1-13b9-4d95-9950-74d03e00ef71",
   "metadata": {},
   "outputs": [
    {
     "name": "stdout",
     "output_type": "stream",
     "text": [
      "736679\n"
     ]
    }
   ],
   "source": [
    "# Query search is not fulltext, only title and authors and other ingested metadata is used\n",
    "#material_science_works = cr.works(Query=\"Materials Science\", filter = {'has_abstract': True})\n",
    "# use category_name instead, but this requires a exact match:\n",
    "material_science_works = cr.works(filter = {'has_abstract': True, 'category_name': 'General Materials Science'})\n",
    "# Print number of materials science works:\n",
    "if material_science_works[\"status\"] == \"ok\":\n",
    "    print(material_science_works[\"message\"][\"total-results\"])"
   ]
  },
  {
   "cell_type": "code",
   "execution_count": 68,
   "id": "38b03a12-ba94-4fff-a260-1e42c94ab283",
   "metadata": {
    "scrolled": true
   },
   "outputs": [
    {
     "name": "stdout",
     "output_type": "stream",
     "text": [
      "##############################\n",
      "Comparative Study of Calculation Methods for Shield Thickness of Typical Materials against Gamma Rays\n",
      "journal-article\n",
      "<jats:p>The paper aims to analyze the shielding properties of concrete and lead materials against gamma rays at different energies, and the relationships between the shield thickness of the two materials and gamma ray energy and attenuation factor have been obtained by using the method of attenuation multiple and the method of half-value-thickness, respectively. The results show that when the gamma ray energy and the attenuation factor are determined, the thickness of the concrete shield layer obtained by the method of attenuation multiple is greater than that obtained by the half-value-thickness method. The relative magnitude of thickness of lead shield obtained by the method of attenuation multiple and the method of half-value-thickness method is relate to the gamma ray energy. When the gamma ray energy is lower than 8 MeV, the thickness of lead shield calculated by the method of attenuation multiple is larger than that obtained by the half-value-thickness method, while when the gamma ray energy is higher than 8 MeV, the conclusion is opposite.</jats:p>\n",
      "https://www.scientific.net/MSF.960.214.pdf\n",
      "['Mechanical Engineering', 'Mechanics of Materials', 'Condensed Matter Physics', 'General Materials Science']\n",
      "##############################\n",
      "The Moderating Role of Work Discipline on The Links Between Locus of Control and Work Ethics in Local Government Employees\n",
      "journal-article\n",
      "<jats:p>The aim of this study is to analyze the role of internal locus of control and external locus of control on work ethics. In addition, this study also analyzes the role of work discipline as a mediating variable. This study uses a quantitative approach. The number of research samples is 114 people. They are civil servants in the city government environment in East Java. Data analysis uses path analysis. The analysis shows that the two-locus of control variables have a positive effect on work ethics. Internal locus of control also has a positive effect on work discipline. Meanwhile, external locus of control does not affect work discipline. Analyst results show that work discipline has a role as a mediating variable. Meanwhile, in the external locus of control of work ethics, work discipline does not act as a mediating variable.</jats:p>\n",
      "https://ejournal.uin-malang.ac.id/index.php/mec/article/viewFile/9914/pdf\n",
      "['General Materials Science']\n",
      "##############################\n",
      "PERTUMBUHAN DAN HASIL Stylosanthes guyanensis cv CIAT 184 PADA TANAH ENTISOL DAN INCEPTISOL YANG DIBERIKAN PUPUK ORGANIK KASCING\n",
      "journal-article\n",
      "<jats:p>Penelitian bertujuan untuk mengetahui pengaruh dosis pupuk organik kascing dan dosis optimalnya pada tanah Entisol dan Inceptisol terhadap pertumbuhan dan hasil hijauan Stylosanthes guyanensis cv CIAT 184. Penelitian dilakukan di Stasiun Penelitian Fakultas Peternakan Universitas Udayana Jl. Raya Sesetan 122 Denpasar. Penelitian menggunakan Rancangan Acak Lengkap (RAL) pola faktorial. Faktor pertama adalah jenis tanah Entisol (T1) dan Inceptisol (T2). Faktor kedua adalah pupuk organik kascing yang terdiri dari 6 (enam) taraf dosis yaitu 0 ton/ha, 5 ton/ha, 10 ton/ha, 20 ton/ha dan 25 ton/ha. Sehingga diperoleh 12 kombinasi perlakuan dan masing-masing kombinasi perlakuan diulang sebanyak tiga kali. Hasil penelitian menunjukkan bahwa perlakuan dosis pupuk organik kascing tidak berpengaruh nyata (P&gt;0,05) pada semua variabel pertumbuhan kecuali tinggi tanaman. Pada variabel hasil hijauan, pupuk organik kascing berpengaruh nyata (P&lt;0,05) pada berat kering daun, berat kering tanaman di atas tanah, dan nisbah berat berat kering tanaman di atas tanah dengan akar. Jenis tanah tidak berpengaruh nyata (P&gt;0,05) terhadap semua variabel baik variabel pertumbuhan maupun hasil hijauan, tetapi jenis tanah Inceptisol cenderung lebih baik daripada Entisol. Tidak terdapat interaksi antara perlakuan dosis pupuk organik kascing dengan jenis tanah terhadap semua variabel baik variabel pertumbuhan maupun hasil hijauan Stylosanthes guyanensis cv CIAT 184. Disimpulkan bahwa pengaruh jenis tanah Inceptisol cenderung lebih baik daripada tanah Entisol. Dosis pupuk organik kascing 15 ton/ha dapat meningkatkan pertumbuhan dan hasil hijauan Stylosanthes guyanensis cv CIAT 184 lebih baik daripada perlakuan lainnya. Dosis optimal pupuk hasil hijauan pada tanah Inceptisol adalah 33,67 g/pot (13,47 ton/ha) dan pada tanah Entisol 37,57 g/pot (15,03 ton/ha), masing-masing dengan hasil hijauan maksimal 42,95 g/pot dan 41,75 g/pot.</jats:p>\n",
      "https://ojs.unud.ac.id/index.php/mip/article/download/10917/7725\n",
      "['General Materials Science']\n",
      "##############################\n",
      "Challenges of the Interdisciplinary Character of Women’s/Gender Studies: Cases of the Czech Republic, Macedonia, and Turkey\n",
      "journal-article\n",
      "<jats:p>Author(s): Ayten Alkan, Tijana Milosavljević-Čajetinac and Viktorija Gavritova | Ајтен Алкан, Тијана Милосављевиќ-Чајетинац и Викторија Гавритова&#x0D;\n",
      "Title (English): Challenges of the Interdisciplinary Character of Women’s/Gender Studies: Cases of the Czech Republic, Macedonia, and Turkey&#x0D;\n",
      "Title (Macedonian): Проблемите со интердисциплинарниот карактер на женските/родовите студии: Примерите со Република Чешка, Македонија и Турција&#x0D;\n",
      "Translated by (English to Macedonian): Kalina Janeva | Калина Јанева&#x0D;\n",
      "Journal Reference: Identities: Journal for Politics, Gender and Culture, Vol. 6, No. 1 (Winter 2007)&#x0D;\n",
      "Publisher: Research Center in Gender Studies - Skopje and Euro-Balkan Institute &#x0D;\n",
      "Page Range: 11-67&#x0D;\n",
      "Page Count: 56&#x0D;\n",
      "Citation (English): Ayten Alkan, Tijana Milosavljević-Čajetinac and Viktorija Gavritova, “Challenges of the Interdisciplinary Character of Women’s/Gender Studies: Cases of the Czech Republic, Macedonia, and Turkey,” Identities: Journal for Politics, Gender and Culture, Vol. 6, No. 1 (Winter 2007): 11-67.&#x0D;\n",
      "Citation (Macedonian): Ајтен Алкан, Тијана Милосављевиќ-Чајетинац и Викторија Гавритова, „Проблемите со интердисциплинарниот карактер на женските/родовите студии: Примерите со Република Чешка, Македонија и Турција“, превод од англиски Калина Јанева, Идентитети: списание за политика, род и култура, т. 6, бр. 1 (зима 2007): 11-67.</jats:p>\n",
      "http://identitiesjournal.edu.mk/index.php/IJPGC/article/download/200/117\n",
      "['Marketing', 'Strategy and Management', 'General Materials Science', 'Media Technology']\n",
      "##############################\n",
      "Pressure and doping effects on the structural stability of thermoelectric BaAg<sub>2</sub>Te<sub>2</sub>\n",
      "journal-article\n",
      "<jats:title>Abstract</jats:title>\n",
      "               <jats:p>Ternary chalcogenides have attracted great attention for their potential applications in thermoelectric devices. Here, we investigate the pressure and doping effects on the structural stability of BaAg<jats:sub>2</jats:sub>Te<jats:sub>2</jats:sub> using first-principles calculations. Imaginary frequencies are observed in the calculated phonon dispersions of the reported <jats:italic>Pnma</jats:italic> structure, indicating that <jats:italic>Pnma</jats:italic> BaAg<jats:sub>2</jats:sub>Te<jats:sub>2</jats:sub> is lattice dynamically unstable at 0 K. Although the imaginary phonon frequencies are small, we find that hydrostatic pressure cannot effectively stabilize the structure. Based on the soft mode at Γ point, a new monoclinic phase with a space group of <jats:italic>P</jats:italic>2<jats:sub>1</jats:sub>/<jats:italic>c</jats:italic> is proposed. From <jats:italic>ab initio</jats:italic> molecular dynamics simulations, the <jats:italic>P</jats:italic>2<jats:sub>1</jats:sub>/<jats:italic>c</jats:italic> phase is predicted to transform to the <jats:italic>Pnma</jats:italic> phase at a low temperature below 100 K. Electron/hole doping effects on the lattice dynamical stability of the <jats:italic>Pnma</jats:italic> phase are also studied. It is found that hole doping is superior to electron doping in stabilizing the <jats:italic>Pnma</jats:italic> phase. Further study on the electrical transport properties of the <jats:italic>Pnma</jats:italic> phase reveals a higher performance along <jats:italic>b</jats:italic> axis than that along the other two directions. This work paves an avenue to better understand the structural stability and electrical transport properties of thermoelectric BaAg<jats:sub>2</jats:sub>Te<jats:sub>2</jats:sub>.</jats:p>\n",
      "https://iopscience.iop.org/article/10.1088/1361-648X/ac3584\n",
      "https://iopscience.iop.org/article/10.1088/1361-648X/ac3584/pdf\n",
      "https://iopscience.iop.org/article/10.1088/1361-648X/ac3584\n",
      "https://iopscience.iop.org/article/10.1088/1361-648X/ac3584/pdf\n",
      "['Condensed Matter Physics', 'General Materials Science']\n",
      "##############################\n",
      "Characteristics of Machining Damage and Their Influence on Strength in Alumina Ceramics System\n",
      "journal-article\n",
      "<jats:p>Machining damage and its influence on strength was examined for alumina ceramics with\n",
      "various grain sizes, which were prepared by dry-pressing method with spray-dried granules, followed\n",
      "by sintering at 1350-1550°C for 2-27 hours. Grain sizes of the sintered bodies were 1-6μm. After\n",
      "machining at the same grinding force, specimens were placed in an alcohol solution of fluorescent dye\n",
      "and dried. The fracture strength was measured by 4 point bending. The machining flaws in the\n",
      "specimens were observed with a confocal scanning laser fluorescence microscope. Machining flaws\n",
      "appeared continuous, wide and deep in the specimen with small grain size, and discontinuous with\n",
      "large size. On ground surfaces, intra-grain fracture appeared on the surface, whereas inter-grain\n",
      "fracture dominates. The continuous, wide and deep flaws were attributed to the dissipation of stored\n",
      "energy associated with the cracks propagation. The result suggested that the stored energy on the\n",
      "machining process increased with decreasing grain size. The strength of the specimen with 1 μm\n",
      "grain size reduced from 500MPa to 250 MPa with machining damage. The strength depended\n",
      "remarkably on the depth of the machining damage.</jats:p>\n",
      "https://www.scientific.net/KEM.317-318.285.pdf\n",
      "['Mechanical Engineering', 'Mechanics of Materials', 'General Materials Science']\n",
      "##############################\n",
      "Synthesis of 1ʹ-acetoxychavicol acetate (ACA) analogues and their inhibitory activities against methicillin-resistant Staphylococcus aureus\n",
      "journal-article\n",
      "<jats:p>A series of 1ʹ-acetoxychavicol acetate analogues were synthesised and evaluated for their antimicrobial activity against methicillin-resistant Staphylococcus aureus (MRSA) using broth microdilution technique. The minimum inhibitory concentration (MIC) was used to determine whether the compounds had potential as inhibitory agents against the MRSA ATCC 43300, and the compounds with antimicrobial potential (&lt;2000 μg ml–1) were tested for minimum bactericidal concentration (MBC). Based on this assay, compound 1 exhibited potent antimicrobial activity with MIC value of 250 μg ml–1. Meanwhile, compounds 2 and 13 showed the moderate activity with MIC values of 500 μg ml–1, respectively.</jats:p>\n",
      "['General Physics and Astronomy', 'General Materials Science']\n",
      "##############################\n",
      "Preparation and Properties of Polyurethane Films with Spent Coffee Grounds\n",
      "journal-article\n",
      "<jats:p>In this study, a method of recycling spent coffee grounds (SCG) is introduced. The SCG was dried and crushed into micron-sized coffee particles. The coffee particles could be used to prepared polyurethane (PU) films with different contents (0wt.%, 5wt.%, 10wt.%, 15wt.%, 20wt.%, 25wt.% and 30wt.%). The anti-ultraviolet property, thermal comfort performance and mechanical property of different PU films were measured. The results showed that after the blending of coffee particles, the films exhibited excellent anti-ultraviolet property and thermal comfort performance, and the mechanical properties were also retained. This study also provided an effective approach to reuse SCG, which is consistent with the environmental-friendly society principle.</jats:p>\n",
      "https://www.scientific.net/MSF.848.148.pdf\n",
      "['Mechanical Engineering', 'Mechanics of Materials', 'Condensed Matter Physics', 'General Materials Science']\n",
      "##############################\n",
      "The Research on Electroplating Technology Used for RF Micro Inductor Coil\n",
      "journal-article\n",
      "<jats:p>In this paper, we focus on the electroplating technology used for RF micro inductor coil. The technological parameters in DC electroplating are determined by SEM, linear sweep voltammetry and so on. It turns out that a high quality of plating layer is obtained when the PH value of electrochemical solution is 9, temperature is 45°C,current density is 1 A/dm<jats:sup>2</jats:sup>, additive is added and stirred slowly. Then the research on pulse electroplating is conducted on the basis of DC electroplating, and the result indicates that the pulse plating layer is of better quality compared with DC plating layer. Afterwards, surface structure and resistance of the copper layer are analyzed, demonstrating the obtained coating layer is good enough to be the main structure of micro inductor coil. In the end, this electroplating technology is applied to micro inductor coil. The simulation, fabrication, package and test of micro inductor coil are introduced briefly.</jats:p>\n",
      "https://www.scientific.net/KEM.645-646.783.pdf\n",
      "['Mechanical Engineering', 'Mechanics of Materials', 'General Materials Science']\n",
      "##############################\n",
      "Strength Analysis of Energy Storage Flywheel Wrapped with Composite Material\n",
      "journal-article\n",
      "<jats:p>The technology of flywheel energy storage is already widely used in motorcar, electric power systems, spaceflight and martial fields. Decreasing the weight, increasing rotating speed and strength of the flywheel rotor and improving the energy storage efficiency of the flywheel are always attention-getting. In this paper, the flywheel energy storage wrapped with composite material by interference fit to hub is designed and finite element analysis is done to obtain the stress distribution of it before being produced. The maximum and variety of stress are studied and the influence of composite material wrapped on flywheel rotating at a high speed is discussed. Then the action of composite material preload to the flywheel is thought about. The results of this analysis can prepare a valuable guide for flywheel energy storage at design and manufacture stage.</jats:p>\n",
      "https://www.scientific.net/KEM.577-578.105.pdf\n",
      "['Mechanical Engineering', 'Mechanics of Materials', 'General Materials Science']\n",
      "##############################\n",
      "Effect of High-Temperature Alloy Cutting Speed on Tool Wear\n",
      "journal-article\n",
      "<jats:p>High-temperature alloy is an important material in making critical aerospace engine parts, it is also used in weapons industry, energy, chemical, power, etc. In this article, DEFORM-3D software applications to establish a three-dimensional cutting model of high-temperature alloy GH4169. Combined with cutting experiment analysis the characteristics of the tool wear and cutting temperature by change cutting speeds, and optimized cutting parameters combined with experimental on tool wear.</jats:p>\n",
      "https://www.scientific.net/MSF.800-801.124.pdf\n",
      "['Mechanical Engineering', 'Mechanics of Materials', 'Condensed Matter Physics', 'General Materials Science']\n",
      "##############################\n",
      "MicroRNA-34c-5p Inhibition of NUF2 Suppresses Lung Adenocarcinoma Cell Viability and Invasion\n",
      "journal-article\n",
      "<jats:p>Background. Lung cancer continues to be a burden worldwide with an estimated 2.09 million new cases of lung cancer and 1.76 million deaths in 2018. MicroRNAs (miRs) are key regulators of gene expression and show their oncogenic or antioncogenic role in human cancers including lung cancer. In this study, we test the hypothesis that miR-34c-5p functions as a candidate antioncomiR in lung adenocarcinoma by targeting NUF2. Methods. The expression pattern of miR-34c-5p and NUF2 was evaluated in 202 biopsy specimens from patients with lung adenocarcinoma and 176 biopsy specimens from patients with benign lung diseases. Interaction between miR-34c-5p and NUF2 was verified by the luciferase-based assay. Cell viability and invasion assays were carried out in cultured A549 cells treated with miR-34c-5p mimic, inhibitor, and siRNA against NUF2. Results. NUF2 was highly expressed in lung adenocarcinoma samples and related to the differentiation degree, TNM stage, and presence of lymph node metastasis (LNM). Patients with NUF2 overexpression had reduced overall survival (OS) and disease-free survival (DFS) compared to patients with underexpression. Cox multivariate analysis revealed that high expression of NUF2, advanced TNM stage, well/moderate differentiation, and existence of LNM were unfavorable prognostic factors. siRNA-mediated knockdown of NUF2 inhibits A549 cell viability and invasion. miR-34c-5p was expressed at a poor level in lung adenocarcinoma samples and related to the differentiation degree, TNM stage, and presence of LNM. miR-34c-5p underexpression contributes to reduced OS and DFS, which was demonstrated as an unfavorable prognostic factor by Cox multivariate analysis. siRNA-mediated knockdown of NUF2 could ablate miR-34c-5p inhibition-mediated effects on A549 cells. Conclusion. Our results prove the hypothesis that miR-34c-5p could suppress lung adenocarcinoma progression by binding to the NUF2 gene. The study is a significant step towards extending our understanding of the mode of miRNA regulation in lung adenocarcinoma.</jats:p>\n",
      "http://downloads.hindawi.com/journals/jnm/2021/9152985.pdf\n",
      "http://downloads.hindawi.com/journals/jnm/2021/9152985.xml\n",
      "http://downloads.hindawi.com/journals/jnm/2021/9152985.pdf\n",
      "['General Materials Science']\n",
      "##############################\n",
      "The Use of Strategic Alliances in an Innovative Economy\n",
      "journal-article\n",
      "<jats:p>Global tendencies in recent decades have strengthened competition in world markets, so it is necessary to create such an organizational form that could respond as quickly and efficiently as possible to changes in the external environment. One of these new forms of organization of enterprises is strategic alliances, the development of which has significantly influenced changes in the structure of many industries. Through the creation of strategic alliances, companies join forces and resources to maintain their competitive positions and create new opportunities. In the article, the strategic alliance is seen as an effective form of the companies joining that best meets the criteria for strategic goals. The authors examine types of strategic alliances, the development of which should provide enterprises with access to certain innovations; the goals of creating strategic alliances are specified. It is proved that a case of strategic alliance means conducting joint research, sharing production facilities, exchanging technologies, marketing each other’s products or joining efforts to produce components or final products. It is noted that partnership in strategic alliances is based on flexible organizational forms of cooperation. The authors allocate the problems that interfere with innovation; actions to resolve them are suggested. Prospects for further research in this direction are the analysis of existing strategic alliances in Ukraine, carrying out a study on their status, number and sphere of formation. Also in the future it is planned to distinguish the problems of determining the advantages and disadvantages of creating strategic alliances in Ukraine, and most importantly – to analyze the readiness of the legislative base for their successful development in the country.</jats:p>\n",
      "['General Materials Science']\n",
      "##############################\n",
      "MOBILE PREMISES HEATING SYSTEM\n",
      "journal-article\n",
      "<jats:p>In production and in everyday life, various heating systems are used. Alternative heating methods have also been used in recent years. One of the sources for the heating system is the Sun. The use of solar energy is of great importance for objects cut off from centralized heat and power supply systems: small villages and auls, farm formations, distant pasture breeding, mobile houses. Heating from the sun, created on the basis of solar panels, is carried out by installing an electric heater. Currently, more and more attention of consumers is drawn to the electrically conductive carbon-based fuel material (carbon). The aim of the study was to study the use of an alternative energy source in the form of solar radiation and carbon thermal flexible material as a heater for heating mobile living quarters of farmers. To carry out the research, a solar station and a heater with a carbon fiber heat-emitting flexible material were installed on the farmer's mobile house. Studies have shown that the proposed system is efficient and in comparison with other systems, such as solar collectors, the system has a number of advantages.</jats:p>\n",
      "['General Physics and Astronomy', 'General Energy', 'General Engineering', 'General Materials Science']\n",
      "##############################\n",
      "The Role of German Diaspora in Russian-German Relations\n",
      "journal-article\n",
      "<jats:p>German Diaspora played and plays significant role in Russian-German relations. It is very important for cooperation in humanitarian sphere, education and culture. Key actors are Germany as «the external homeland», German diaspora and Russia as «the accommodation country». In the activity concerning the Russian Germans all three parties are guided by various principles and purposes that sometimes leads to tensions and the conflicts. But as a whole we have to note that the Russian Germans became a constructive link between Germany and Russia.</jats:p>\n",
      "['General Materials Science']\n",
      "##############################\n",
      "Avaliação da influência do glicerol em matriz cerâmica\n",
      "journal-article\n",
      "<jats:p>RESUMO O presente trabalho avalia os efeitos da adição de glicerol sobre a porosidade e resistência mecânica de um material cerâmico. As amostras foram compactadas por prensagem uniaxial e submetidas a temperaturas de queima de 950 °C e 1100 °C, com taxa de aquecimento de 7 °C min-1. Foram realizados ensaios físicos e mecânicos para analisar porosidade aparente, absorção de água, retração linear e resistência mecânica a flexão. Os resultados mostram que a adição de 10% de glicerol à argila melhora principalmente suas propriedades mecânicas, podendo ser um aditivo promissor para gerar materiais cerâmicos estruturais com microestrutura mais resistente.</jats:p>\n",
      "http://www.scielo.br/pdf/rmat/v24n1/1517-7076-rmat-24-1-e12308.pdf\n",
      "['General Physics and Astronomy', 'General Materials Science', 'General Chemistry']\n",
      "##############################\n",
      "Diffusion and Gettering of Transition Metals in 4H-SiC\n",
      "journal-article\n",
      "<jats:p>Diffusion of transition metals in 4H-SiC has been investigated by secondary ion mass spectroscopy using epilayers and substrates implanted with titanium (Ti), chromium (Cr), iron (Fe), or nickel (Ni). In the epilayers, Cr, Fe, and Ni atoms have diffused by argon (Ar) annealing at 1780°C for 30 min. In n<jats:sup>+</jats:sup> substrates, the diffusivity of the metals is smaller than that in the epilayers, and only Ni has diffused by the annealing. By the Ar or helium implantation following the implantation of transition metals, diffusion of transition metals can be successfully suppressed.</jats:p>\n",
      "https://www.scientific.net/MSF.717-720.225.pdf\n",
      "['Mechanical Engineering', 'Mechanics of Materials', 'Condensed Matter Physics', 'General Materials Science']\n",
      "##############################\n",
      "Learning Design for Sustainable Development\n",
      "journal-article\n",
      "<jats:p>Purpose: The purpose of this paper is to theorise an approach to learning design for formal education and training contexts, which can empower the student-led acquisition of competences for sustainable development with particular reference to engineering education. Design: the paper presents a conceptual framework which synthesises two extant bodies of empirical research (i) into the development of systems engineering proficiencies and (ii) the development of learning power and authentic enquiry. Findings: Bringing these two research-based bodies of knowledge together enables the conceptualisation of a practical learning design which integrates the development of self-leadership, learning relationships and complex problem solving for sustainable futures. These two approaches, and their synthesis, have been implemented in practice but not reported on or theorised before.Originality: This transdisciplinary theoretical study was undertaken by the original researchers to integrate and transcend the limitations of disciplinary and siloed approaches to learning design for 21C meta-competencies and to explore a common architecture capable of deployment over time and adaptable to different contexts. Research limitations/implications: Whilst the two strands of research underpinning this synthesis are well researched, the integrated model has yet to be empirically verified through appropriate scientific methodologies.Practical implications: this study provides a foundation for the development of a core curricular spine  to be developed as an accreditation framework in formal education and work-based settings. The development of a rigorous measurement model has significant implications for policy and practice.</jats:p>\n",
      "http://www.scholink.org/ojs/index.php/jetss/article/viewFile/4012/4357\n",
      "['General Materials Science']\n",
      "##############################\n",
      "Changing of the Spontaneous Polarization in Niobate Nanoparticles Induced by Non Isovalent Doping\n",
      "journal-article\n",
      "<jats:p>Ferroelectric niobates with tetragonal tungsten bronze TTB-type structure have shown great technology interest for application in pyroelectric detectors and piezoelectric transducers, sensor/filter in composite. The synthesis and structural characterization of the solid solution of iron doped potassium strontium niobate with stoichiometry KSr<jats:sub>2</jats:sub>(Fe<jats:sub>0.</jats:sub><jats:sub>25</jats:sub>Nb<jats:sub>4.</jats:sub><jats:sub>75</jats:sub>)O<jats:sub>15-δ</jats:sub> prepared by modified polyol method were carried out. The highest crystallinity was obtained for the precursor powder calcined at 1150oC for 10 hours in oxygen atmosphere. The structural characterization was performed by X-Ray diffraction. The average crystallite size obtained was equal to 25 nm. The structural parameters were determined by Rietveld method giving a tetragonal system with space group P4bm. The spontaneous polarization of the solid solution was calculated, being equal to 39.46 μC.cm<jats:sup>-2</jats:sup>. Polihedra distortion and its correlation with niobium off-center are discussed.</jats:p>\n",
      "https://www.scientific.net/MSF.820.367.pdf\n",
      "['Mechanical Engineering', 'Mechanics of Materials', 'Condensed Matter Physics', 'General Materials Science']\n",
      "##############################\n",
      "Determination of the profile of the temperature field  of material heated by continuous laser radiation\n",
      "journal-article\n",
      "<jats:p>Spectral pyrometry was used to determine the surface temperature distribution of Si, Nb, Cu, and graphite samples when they were locally heated by continuous radiation of an Nd:YAG laser (λ = 1.064 μm). With prolonged exposure to radiation, a stationary temperature field was established in the samples. The thermal spectra were recorded with a small spectrometer in the visible range in the temperature range above 850 K. The optical fiber used to transmit the radiation spectrum to the spectrometer had an additional diaphragm with a diameter of 1 mm located at a certain distance from the fiber end, which ensured the locality of the recorded spectra. The optical fiber moved continuously along the sample, and the spectrometer recorded up to 100 spectra with a frequency of 5-10 Hz. The temperature profile of the samples was calculated based on the results of processing the spectra using the Spectral Pyrometry program.</jats:p>\n",
      "['General Materials Science']\n"
     ]
    }
   ],
   "source": [
    "# Some info\n",
    "for work in material_science_works['message']['items']:\n",
    "    print(\"#\"*30)\n",
    "    print(work['title'][0])\n",
    "    print(work['type'])\n",
    "    print(work['abstract'])\n",
    "    if ('link' in work):\n",
    "        last_line = \"\";\n",
    "        for link in work['link']:\n",
    "            if (last_line != link['URL']):\n",
    "                last_line = link['URL']\n",
    "        print(last_line)\n",
    "    if ('subject' in work):\n",
    "        print(work['subject'])"
   ]
  },
  {
   "cell_type": "code",
   "execution_count": 71,
   "id": "26dd2e4e-891d-4453-bc62-5fa0d5e03b2a",
   "metadata": {},
   "outputs": [
    {
     "name": "stdout",
     "output_type": "stream",
     "text": [
      "['General Materials Science']\n",
      "0.0\n",
      "['Mechanical Engineering', 'Mechanics of Materials', 'Condensed Matter Physics', 'General Materials Science']\n",
      "0.0\n",
      "['Mechanical Engineering', 'Mechanics of Materials', 'General Materials Science']\n",
      "0.0\n",
      "['Mechanical Engineering', 'Mechanics of Materials', 'Condensed Matter Physics', 'General Materials Science']\n",
      "0.0\n",
      "['Mechanical Engineering', 'Mechanics of Materials', 'General Materials Science']\n",
      "0.0\n",
      "['Marketing', 'Strategy and Management', 'General Materials Science', 'Media Technology']\n",
      "0.0\n",
      "['Mechanical Engineering', 'Mechanics of Materials', 'Condensed Matter Physics', 'General Materials Science']\n",
      "0.0\n",
      "['General Materials Science']\n",
      "0.0\n",
      "['General Materials Science']\n",
      "0.0\n",
      "['Mechanical Engineering', 'Mechanics of Materials', 'General Materials Science']\n",
      "0.0\n",
      "['Condensed Matter Physics', 'General Materials Science']\n",
      "0.0\n",
      "['General Materials Science']\n",
      "0.0\n",
      "['Developmental Biology', 'Endocrinology', 'Genetics', 'General Materials Science', 'Molecular Biology', 'Animal Science and Zoology', 'Reproductive Medicine', 'General Medicine', 'Biotechnology']\n",
      "0.0\n",
      "['Industrial and Manufacturing Engineering', 'Mechanics of Materials', 'General Materials Science']\n",
      "0.0\n",
      "['Marketing', 'Strategy and Management', 'General Materials Science', 'Media Technology']\n",
      "0.0\n",
      "['Mechanical Engineering', 'Mechanics of Materials', 'Condensed Matter Physics', 'General Materials Science']\n",
      "0.0\n",
      "['General Materials Science']\n",
      "0.0\n",
      "['Mechanical Engineering', 'Mechanics of Materials', 'General Materials Science']\n",
      "0.0\n",
      "['Plant Science', 'General Materials Science', 'Forestry']\n",
      "0.0\n",
      "['General Materials Science']\n",
      "0.0\n"
     ]
    }
   ],
   "source": [
    "# looking for category_name related to 'General Materials Science'\n",
    "# Use `limit` and `offset` to get more resutls.\n",
    "# Setting has_full_text to true is not useful if you do not have access to the papers.\n",
    "page = cr.works(filter = {'has_abstract': True, 'has_full_text': True, 'category_name': 'General Materials Science'}, limit=20, offset=20)\n",
    "for work in page['message']['items']:\n",
    "    if ('subject' in work):\n",
    "        print(work['subject'])\n",
    "        print(work['score'])"
   ]
  },
  {
   "cell_type": "code",
   "execution_count": 70,
   "id": "739cda51-e17d-4e2a-9340-98a40c46ea02",
   "metadata": {},
   "outputs": [
    {
     "data": {
      "text/plain": [
       "{'status': 'ok',\n",
       " 'message-type': 'work',\n",
       " 'message-version': '1.0.0',\n",
       " 'message': {'indexed': {'date-parts': [[2022, 4, 5]],\n",
       "   'date-time': '2022-04-05T22:30:16Z',\n",
       "   'timestamp': 1649197816235},\n",
       "  'publisher-location': 'Paris, France',\n",
       "  'reference-count': 0,\n",
       "  'publisher': 'Atlantis Press',\n",
       "  'content-domain': {'domain': [], 'crossmark-restriction': False},\n",
       "  'short-container-title': [],\n",
       "  'published-print': {'date-parts': [[2016]]},\n",
       "  'DOI': '10.2991/mmme-16.2016.184',\n",
       "  'type': 'proceedings-article',\n",
       "  'created': {'date-parts': [[2016, 9, 25]],\n",
       "   'date-time': '2016-09-25T17:41:52Z',\n",
       "   'timestamp': 1474825312000},\n",
       "  'source': 'Crossref',\n",
       "  'is-referenced-by-count': 0,\n",
       "  'title': ['Finite element analysis of portal frame under fire condition'],\n",
       "  'prefix': '10.2991',\n",
       "  'author': [{'given': 'Dong',\n",
       "    'family': 'Chen',\n",
       "    'sequence': 'first',\n",
       "    'affiliation': []},\n",
       "   {'given': 'Jinzhu',\n",
       "    'family': 'Tang',\n",
       "    'sequence': 'first',\n",
       "    'affiliation': []}],\n",
       "  'member': '1574',\n",
       "  'event': {'name': '2016 4th International Conference on Mechanical Materials and Manufacturing Engineering',\n",
       "   'location': 'Wuhan, China',\n",
       "   'acronym': 'mmme-16',\n",
       "   'start': {'date-parts': [[2016, 10, 15]]},\n",
       "   'end': {'date-parts': [[2016, 10, 16]]}},\n",
       "  'container-title': ['Proceedings of the 2016 4th International Conference on Mechanical Materials and Manufacturing Engineering'],\n",
       "  'original-title': [],\n",
       "  'deposited': {'date-parts': [[2016, 9, 25]],\n",
       "   'date-time': '2016-09-25T17:43:01Z',\n",
       "   'timestamp': 1474825381000},\n",
       "  'score': 1,\n",
       "  'resource': {'primary': {'URL': 'http://www.atlantis-press.com/php/paper-details.php?id=25859933'}},\n",
       "  'subtitle': [],\n",
       "  'short-title': [],\n",
       "  'issued': {'date-parts': [[2016]]},\n",
       "  'references-count': 0,\n",
       "  'alternative-id': ['25859933'],\n",
       "  'URL': 'http://dx.doi.org/10.2991/mmme-16.2016.184',\n",
       "  'relation': {},\n",
       "  'published': {'date-parts': [[2016]]}}}"
      ]
     },
     "execution_count": 70,
     "metadata": {},
     "output_type": "execute_result"
    }
   ],
   "source": [
    "cr.works(ids = '10.2991/MMME-16.2016.184')"
   ]
  },
  {
   "cell_type": "code",
   "execution_count": 72,
   "id": "8c2a9790-391a-4e62-825c-39f9fc9e2613",
   "metadata": {
    "scrolled": true
   },
   "outputs": [
    {
     "name": "stdout",
     "output_type": "stream",
     "text": [
      "{'status': 'ok', 'message-type': 'journal-list', 'message-version': '1.0.0', 'message': {'items-per-page': 20, 'query': {'start-index': 0, 'search-terms': None}, 'total-results': 130012, 'items': [{'last-status-check-time': 1712016402765, 'counts': {'current-dois': 350, 'backfile-dois': 12233, 'total-dois': 12583}, 'breakdowns': {'dois-by-issued-year': [[1999, 598], [2000, 524], [1996, 504], [1997, 484], [1998, 482], [2001, 462], [2002, 446], [2007, 443], [2006, 407], [2008, 404], [2004, 396], [2003, 371], [2009, 367], [2005, 362], [1995, 337], [2016, 299], [1993, 298], [1994, 297], [1992, 266], [2011, 263], [1990, 263], [1991, 253], [2010, 247], [1989, 228], [1988, 227], [2021, 225], [2014, 222], [2020, 212], [2017, 207], [2012, 207], [2019, 205], [1987, 186], [2018, 178], [2013, 165], [2022, 161], [2015, 155], [1986, 150], [2023, 147], [1984, 139], [1982, 133], [1985, 128], [1983, 115], [1981, 92], [1980, 78], [1979, 54], [1976, 53], [1975, 47], [2024, 42], [1977, 39], [1978, 15]]}, 'publisher': 'Wiley (John Wiley & Sons)', 'coverage': {'affiliations-current': 0.76, 'similarity-checking-current': 0.92, 'descriptions-current': 0.0, 'ror-ids-current': 0.0, 'funders-backfile': 0.1050437341616938, 'licenses-backfile': 0.9790729992642851, 'funders-current': 0.4857142857142857, 'affiliations-backfile': 0.1337366140766778, 'resource-links-backfile': 0.9752309327229625, 'orcids-backfile': 0.06564211558898063, 'update-policies-current': 0.92, 'ror-ids-backfile': 0.0, 'orcids-current': 0.54, 'similarity-checking-backfile': 0.8845745115670727, 'references-backfile': 0.7768331562167906, 'descriptions-backfile': 0.0, 'award-numbers-backfile': 0.08248181149350119, 'update-policies-backfile': 0.06090084198479523, 'licenses-current': 0.92, 'award-numbers-current': 0.2971428571428571, 'abstracts-backfile': 0.6384370146325513, 'resource-links-current': 0.5085714285714286, 'abstracts-current': 0.7371428571428571, 'references-current': 0.7628571428571429}, 'title': 'Journal of Neuroscience Research', 'subjects': [{'ASJC': 2804, 'name': 'Cellular and Molecular Neuroscience'}], 'coverage-type': {'all': {'last-status-check-time': 1712016402765, 'affiliations': 0.1511443102352193, 'abstracts': 0.6411315956770502, 'orcids': 0.07883026064844247, 'licenses': 0.9773521932612842, 'references': 0.77638270820089, 'funders': 0.1156230133502861, 'similarity-checking': 0.8855689764780674, 'award-numbers': 0.08844564526382707, 'ror-ids': 0.0, 'update-policies': 0.08479020979020979, 'resource-links': 0.9621741894469167, 'descriptions': 0.0}, 'backfile': {'last-status-check-time': 1712016402765, 'affiliations': 0.1337366140766778, 'abstracts': 0.6384370146325513, 'orcids': 0.06564211558898063, 'licenses': 0.9790729992642851, 'references': 0.7768331562167906, 'funders': 0.1050437341616938, 'similarity-checking': 0.8845745115670727, 'award-numbers': 0.08248181149350119, 'ror-ids': 0.0, 'update-policies': 0.06090084198479523, 'resource-links': 0.9752309327229625, 'descriptions': 0.0}, 'current': {'last-status-check-time': 1712016402765, 'affiliations': 0.76, 'abstracts': 0.7371428571428571, 'orcids': 0.54, 'licenses': 0.92, 'references': 0.7628571428571429, 'funders': 0.4857142857142857, 'similarity-checking': 0.92, 'award-numbers': 0.2971428571428571, 'ror-ids': 0.0, 'update-policies': 0.92, 'resource-links': 0.5085714285714286, 'descriptions': 0.0}}, 'flags': {'deposits-abstracts-current': True, 'deposits-orcids-current': True, 'deposits': True, 'deposits-affiliations-backfile': True, 'deposits-update-policies-backfile': True, 'deposits-similarity-checking-backfile': True, 'deposits-award-numbers-current': True, 'deposits-resource-links-current': True, 'deposits-ror-ids-current': False, 'deposits-articles': True, 'deposits-affiliations-current': True, 'deposits-funders-current': True, 'deposits-references-backfile': True, 'deposits-ror-ids-backfile': False, 'deposits-abstracts-backfile': True, 'deposits-licenses-backfile': True, 'deposits-award-numbers-backfile': True, 'deposits-descriptions-current': False, 'deposits-references-current': True, 'deposits-resource-links-backfile': True, 'deposits-descriptions-backfile': False, 'deposits-orcids-backfile': True, 'deposits-funders-backfile': True, 'deposits-update-policies-current': True, 'deposits-similarity-checking-current': True, 'deposits-licenses-current': True}, 'ISSN': ['0360-4012', '1097-4547'], 'issn-type': [{'value': '0360-4012', 'type': 'print'}, {'value': '1097-4547', 'type': 'electronic'}]}, {'last-status-check-time': 1712016410725, 'counts': {'current-dois': 662, 'backfile-dois': 16487, 'total-dois': 17149}, 'breakdowns': {'dois-by-issued-year': [[2000, 743], [2001, 585], [2003, 466], [1994, 462], [2002, 436], [1987, 431], [2005, 426], [1999, 419], [1984, 419], [1998, 418], [2004, 411], [2010, 410], [1981, 410], [1988, 407], [1983, 389], [1996, 381], [1978, 379], [1992, 372], [1990, 371], [2011, 370], [1995, 359], [1991, 353], [1997, 350], [2012, 348], [1982, 348], [2020, 342], [1993, 339], [2006, 334], [2009, 332], [1980, 332], [1979, 326], [1985, 321], [1986, 319], [1989, 317], [2014, 299], [2022, 298], [2017, 295], [2023, 289], [2019, 289], [2021, 286], [2007, 282], [2018, 281], [2016, 280], [2008, 275], [1977, 274], [2015, 252], [2013, 249], [2024, 75]]}, 'publisher': 'Wiley (John Wiley & Sons)', 'coverage': {'affiliations-current': 0.8474320241691843, 'similarity-checking-current': 0.9531722054380665, 'descriptions-current': 0.0, 'ror-ids-current': 0.0, 'funders-backfile': 0.08376296476011404, 'licenses-backfile': 0.9824710377873476, 'funders-current': 0.5302114803625378, 'affiliations-backfile': 0.1294353126705889, 'resource-links-backfile': 0.9798629223024201, 'orcids-backfile': 0.05301146357736398, 'update-policies-current': 0.9531722054380665, 'ror-ids-backfile': 0.0, 'orcids-current': 0.8368580060422961, 'similarity-checking-backfile': 0.9403166130891005, 'references-backfile': 0.7342754897798265, 'descriptions-backfile': 0.0, 'award-numbers-backfile': 0.06696184872930187, 'update-policies-backfile': 0.06508157942621459, 'licenses-current': 0.9531722054380665, 'award-numbers-current': 0.4637462235649547, 'abstracts-backfile': 0.502031903924304, 'resource-links-current': 0.5392749244712991, 'abstracts-current': 0.6691842900302115, 'references-current': 0.8338368580060423}, 'title': 'Annals of Neurology', 'subjects': [{'ASJC': 2728, 'name': 'Neurology (clinical)'}, {'ASJC': 2808, 'name': 'Neurology'}], 'coverage-type': {'all': {'last-status-check-time': 1712016410725, 'affiliations': 0.1571428571428571, 'abstracts': 0.5084548104956268, 'orcids': 0.08326530612244898, 'licenses': 0.9812827988338192, 'references': 0.7380758017492711, 'funders': 0.1009912536443149, 'similarity-checking': 0.9408163265306122, 'award-numbers': 0.08227405247813412, 'ror-ids': 0.0, 'update-policies': 0.09935860058309039, 'resource-links': 0.962798833819242, 'descriptions': 0.0}, 'backfile': {'last-status-check-time': 1712016410725, 'affiliations': 0.1294353126705889, 'abstracts': 0.502031903924304, 'orcids': 0.05301146357736398, 'licenses': 0.9824710377873476, 'references': 0.7342754897798265, 'funders': 0.08376296476011404, 'similarity-checking': 0.9403166130891005, 'award-numbers': 0.06696184872930187, 'ror-ids': 0.0, 'update-policies': 0.06508157942621459, 'resource-links': 0.9798629223024201, 'descriptions': 0.0}, 'current': {'last-status-check-time': 1712016410725, 'affiliations': 0.8474320241691843, 'abstracts': 0.6691842900302115, 'orcids': 0.8368580060422961, 'licenses': 0.9531722054380665, 'references': 0.8338368580060423, 'funders': 0.5302114803625378, 'similarity-checking': 0.9531722054380665, 'award-numbers': 0.4637462235649547, 'ror-ids': 0.0, 'update-policies': 0.9531722054380665, 'resource-links': 0.5392749244712991, 'descriptions': 0.0}}, 'flags': {'deposits-abstracts-current': True, 'deposits-orcids-current': True, 'deposits': True, 'deposits-affiliations-backfile': True, 'deposits-update-policies-backfile': True, 'deposits-similarity-checking-backfile': True, 'deposits-award-numbers-current': True, 'deposits-resource-links-current': True, 'deposits-ror-ids-current': False, 'deposits-articles': True, 'deposits-affiliations-current': True, 'deposits-funders-current': True, 'deposits-references-backfile': True, 'deposits-ror-ids-backfile': False, 'deposits-abstracts-backfile': True, 'deposits-licenses-backfile': True, 'deposits-award-numbers-backfile': True, 'deposits-descriptions-current': False, 'deposits-references-current': True, 'deposits-resource-links-backfile': True, 'deposits-descriptions-backfile': False, 'deposits-orcids-backfile': True, 'deposits-funders-backfile': True, 'deposits-update-policies-current': True, 'deposits-similarity-checking-current': True, 'deposits-licenses-current': True}, 'ISSN': ['0364-5134', '1531-8249'], 'issn-type': [{'value': '0364-5134', 'type': 'print'}, {'value': '1531-8249', 'type': 'electronic'}]}, {'last-status-check-time': 1712016400098, 'counts': {'current-dois': 123, 'backfile-dois': 2195, 'total-dois': 2318}, 'breakdowns': {'dois-by-issued-year': [[1998, 86], [1999, 84], [1997, 84], [1996, 79], [2000, 78], [2021, 70], [2016, 70], [2017, 69], [1993, 68], [2006, 66], [2019, 65], [2007, 65], [2002, 65], [1995, 65], [2005, 64], [1988, 64], [1986, 64], [2020, 62], [2004, 62], [1994, 62], [1992, 62], [2022, 60], [1987, 60], [1989, 59], [2003, 58], [2008, 54], [2018, 53], [2012, 52], [1990, 52], [2009, 50], [2023, 47], [2010, 47], [2001, 46], [2015, 45], [2014, 44], [1991, 43], [2011, 40], [2013, 38], [2024, 16]]}, 'publisher': 'Wiley (John Wiley & Sons)', 'coverage': {'affiliations-current': 0.7560975609756098, 'similarity-checking-current': 0.8861788617886179, 'descriptions-current': 0.0, 'ror-ids-current': 0.0, 'funders-backfile': 0.09703872437357632, 'licenses-backfile': 0.9681093394077449, 'funders-current': 0.3414634146341463, 'affiliations-backfile': 0.2127562642369021, 'resource-links-backfile': 0.9681093394077449, 'orcids-backfile': 0.1015945330296128, 'update-policies-current': 0.8861788617886179, 'ror-ids-backfile': 0.0, 'orcids-current': 0.7073170731707317, 'similarity-checking-backfile': 0.9129840546697039, 'references-backfile': 0.6277904328018223, 'descriptions-backfile': 0.0, 'award-numbers-backfile': 0.06287015945330296, 'update-policies-backfile': 0.1006833712984055, 'licenses-current': 0.8861788617886179, 'award-numbers-current': 0.04878048780487805, 'abstracts-backfile': 0.4528473804100228, 'resource-links-current': 0.4715447154471545, 'abstracts-current': 0.7154471544715447, 'references-current': 0.7479674796747967}, 'title': 'Geoarchaeology', 'subjects': [{'ASJC': 1901, 'name': 'Earth and Planetary Sciences (miscellaneous)'}, {'ASJC': 3302, 'name': 'Archeology'}, {'ASJC': 1204, 'name': 'Archeology'}], 'coverage-type': {'all': {'last-status-check-time': 1712016400098, 'affiliations': 0.2414833980163864, 'abstracts': 0.4665804225959465, 'orcids': 0.1336783096162139, 'licenses': 0.9633462699439413, 'references': 0.6338939197930142, 'funders': 0.1099611901681759, 'similarity-checking': 0.9115998275118586, 'award-numbers': 0.06209573091849935, 'ror-ids': 0.0, 'update-policies': 0.1423027166882277, 'resource-links': 0.9413540319103062, 'descriptions': 0.0}, 'backfile': {'last-status-check-time': 1712016400098, 'affiliations': 0.2127562642369021, 'abstracts': 0.4528473804100228, 'orcids': 0.1015945330296128, 'licenses': 0.9681093394077449, 'references': 0.6277904328018223, 'funders': 0.09703872437357632, 'similarity-checking': 0.9129840546697039, 'award-numbers': 0.06287015945330296, 'ror-ids': 0.0, 'update-policies': 0.1006833712984055, 'resource-links': 0.9681093394077449, 'descriptions': 0.0}, 'current': {'last-status-check-time': 1712016400098, 'affiliations': 0.7560975609756098, 'abstracts': 0.7154471544715447, 'orcids': 0.7073170731707317, 'licenses': 0.8861788617886179, 'references': 0.7479674796747967, 'funders': 0.3414634146341463, 'similarity-checking': 0.8861788617886179, 'award-numbers': 0.04878048780487805, 'ror-ids': 0.0, 'update-policies': 0.8861788617886179, 'resource-links': 0.4715447154471545, 'descriptions': 0.0}}, 'flags': {'deposits-abstracts-current': True, 'deposits-orcids-current': True, 'deposits': True, 'deposits-affiliations-backfile': True, 'deposits-update-policies-backfile': True, 'deposits-similarity-checking-backfile': True, 'deposits-award-numbers-current': True, 'deposits-resource-links-current': True, 'deposits-ror-ids-current': False, 'deposits-articles': True, 'deposits-affiliations-current': True, 'deposits-funders-current': True, 'deposits-references-backfile': True, 'deposits-ror-ids-backfile': False, 'deposits-abstracts-backfile': True, 'deposits-licenses-backfile': True, 'deposits-award-numbers-backfile': True, 'deposits-descriptions-current': False, 'deposits-references-current': True, 'deposits-resource-links-backfile': True, 'deposits-descriptions-backfile': False, 'deposits-orcids-backfile': True, 'deposits-funders-backfile': True, 'deposits-update-policies-current': True, 'deposits-similarity-checking-current': True, 'deposits-licenses-current': True}, 'ISSN': ['0883-6353', '1520-6548'], 'issn-type': [{'value': '0883-6353', 'type': 'print'}, {'value': '1520-6548', 'type': 'electronic'}]}, {'last-status-check-time': 1712016411400, 'counts': {'current-dois': 923, 'backfile-dois': 7565, 'total-dois': 8488}, 'breakdowns': {'dois-by-issued-year': [[2020, 741], [2019, 693], [2017, 525], [2018, 520], [2022, 445], [2021, 435], [2023, 369], [2005, 315], [2016, 287], [2000, 221], [1998, 214], [2001, 209], [2003, 187], [1999, 182], [1997, 181], [2014, 177], [2007, 176], [2015, 170], [2004, 165], [2012, 152], [2010, 151], [2006, 151], [2013, 146], [2008, 145], [1996, 144], [2002, 140], [2009, 135], [2011, 125], [1995, 113], [1994, 113], [1993, 112], [2024, 109], [1992, 104], [1988, 93], [1991, 92], [1990, 90], [1989, 83], [1987, 78]]}, 'publisher': 'Wiley (John Wiley & Sons)', 'coverage': {'affiliations-current': 0.9252437703141928, 'similarity-checking-current': 0.9707475622968581, 'descriptions-current': 0.0, 'ror-ids-current': 0.0, 'funders-backfile': 0.2251156642432254, 'licenses-backfile': 0.9775280898876404, 'funders-current': 0.504875406283857, 'affiliations-backfile': 0.4774619960343688, 'resource-links-backfile': 0.9750165234633179, 'orcids-backfile': 0.353734302709848, 'update-policies-current': 0.9707475622968581, 'ror-ids-backfile': 0.0, 'orcids-current': 0.8743228602383532, 'similarity-checking-backfile': 0.9280898876404494, 'references-backfile': 0.8153337739590218, 'descriptions-backfile': 0.0, 'award-numbers-backfile': 0.1813615333773959, 'update-policies-backfile': 0.292531394580304, 'licenses-current': 0.9707475622968581, 'award-numbers-current': 0.4149512459371614, 'abstracts-backfile': 0.7361533377395902, 'resource-links-current': 0.579631635969664, 'abstracts-current': 0.9512459371614301, 'references-current': 0.9284940411700975}, 'title': 'Applied Organometallic Chemistry', 'subjects': [{'ASJC': 1604, 'name': 'Inorganic Chemistry'}, {'ASJC': 1600, 'name': 'General Chemistry'}], 'coverage-type': {'all': {'last-status-check-time': 1712016411400, 'affiliations': 0.5260925904111203, 'abstracts': 0.7594534102956768, 'orcids': 0.4102956767581576, 'licenses': 0.9766756979620685, 'references': 0.8275415243255978, 'funders': 0.2555071268700671, 'similarity-checking': 0.9327364825067735, 'award-numbers': 0.2067381316998469, 'ror-ids': 0.0, 'update-policies': 0.3662386617976204, 'resource-links': 0.9319118859700789, 'descriptions': 0.0}, 'backfile': {'last-status-check-time': 1712016411400, 'affiliations': 0.4774619960343688, 'abstracts': 0.7361533377395902, 'orcids': 0.353734302709848, 'licenses': 0.9775280898876404, 'references': 0.8153337739590218, 'funders': 0.2251156642432254, 'similarity-checking': 0.9280898876404494, 'award-numbers': 0.1813615333773959, 'ror-ids': 0.0, 'update-policies': 0.292531394580304, 'resource-links': 0.9750165234633179, 'descriptions': 0.0}, 'current': {'last-status-check-time': 1712016411400, 'affiliations': 0.9252437703141928, 'abstracts': 0.9512459371614301, 'orcids': 0.8743228602383532, 'licenses': 0.9707475622968581, 'references': 0.9284940411700975, 'funders': 0.504875406283857, 'similarity-checking': 0.9707475622968581, 'award-numbers': 0.4149512459371614, 'ror-ids': 0.0, 'update-policies': 0.9707475622968581, 'resource-links': 0.579631635969664, 'descriptions': 0.0}}, 'flags': {'deposits-abstracts-current': True, 'deposits-orcids-current': True, 'deposits': True, 'deposits-affiliations-backfile': True, 'deposits-update-policies-backfile': True, 'deposits-similarity-checking-backfile': True, 'deposits-award-numbers-current': True, 'deposits-resource-links-current': True, 'deposits-ror-ids-current': False, 'deposits-articles': True, 'deposits-affiliations-current': True, 'deposits-funders-current': True, 'deposits-references-backfile': True, 'deposits-ror-ids-backfile': False, 'deposits-abstracts-backfile': True, 'deposits-licenses-backfile': True, 'deposits-award-numbers-backfile': True, 'deposits-descriptions-current': False, 'deposits-references-current': True, 'deposits-resource-links-backfile': True, 'deposits-descriptions-backfile': False, 'deposits-orcids-backfile': True, 'deposits-funders-backfile': True, 'deposits-update-policies-current': True, 'deposits-similarity-checking-current': True, 'deposits-licenses-current': True}, 'ISSN': ['0268-2605', '1099-0739'], 'issn-type': [{'value': '0268-2605', 'type': 'print'}, {'value': '1099-0739', 'type': 'electronic'}]}, {'last-status-check-time': 1712016406978, 'counts': {'current-dois': 3528, 'backfile-dois': 60653, 'total-dois': 64181}, 'breakdowns': {'dois-by-issued-year': [[2006, 2644], [2012, 2280], [2011, 2255], [2007, 2153], [2009, 2032], [2001, 2005], [2010, 1965], [2003, 1965], [2008, 1931], [2000, 1810], [1999, 1760], [1996, 1672], [2002, 1659], [2021, 1631], [1998, 1578], [1997, 1578], [2023, 1576], [2020, 1561], [2014, 1549], [2022, 1525], [2017, 1506], [2004, 1500], [2019, 1493], [2015, 1478], [2013, 1477], [2005, 1417], [2016, 1344], [2018, 1272], [1993, 1006], [1994, 907], [1995, 882], [1992, 841], [1991, 754], [1990, 704], [1979, 595], [1986, 546], [1987, 500], [1989, 489], [1982, 453], [2024, 427], [1984, 416], [1981, 401], [1985, 398], [1965, 356], [1983, 347], [1988, 345], [1976, 335], [1978, 334], [1973, 333], [1974, 331], [1975, 330], [1977, 322], [1970, 313], [1972, 305], [1980, 293], [1971, 290], [1969, 271], [1968, 263], [1967, 247], [1964, 239], [1963, 223], [1966, 180], [1960, 161], [1962, 156], [1959, 147], [1961, 125]]}, 'publisher': 'Wiley (John Wiley & Sons)', 'coverage': {'affiliations-current': 0.9047619047619048, 'similarity-checking-current': 0.9679705215419501, 'descriptions-current': 0.0, 'ror-ids-current': 0.0, 'funders-backfile': 0.1214119664319984, 'licenses-backfile': 0.9764727218769063, 'funders-current': 0.5657596371882087, 'affiliations-backfile': 0.1975829719881951, 'resource-links-backfile': 0.9743293818937233, 'orcids-backfile': 0.1018416236624734, 'update-policies-current': 0.9679705215419501, 'ror-ids-backfile': 0.0, 'orcids-current': 0.9282879818594104, 'similarity-checking-backfile': 0.9278683659505713, 'references-backfile': 0.8087481245775147, 'descriptions-backfile': 0.0, 'award-numbers-backfile': 0.09902230722305574, 'update-policies-backfile': 0.09048192175160338, 'licenses-current': 0.9679705215419501, 'award-numbers-current': 0.502267573696145, 'abstracts-backfile': 0.7484543221275122, 'resource-links-current': 0.5127551020408163, 'abstracts-current': 0.9056122448979592, 'references-current': 0.9047619047619048}, 'title': 'Journal of Applied Polymer Science', 'subjects': [{'ASJC': 2505, 'name': 'Materials Chemistry'}, {'ASJC': 2507, 'name': 'Polymers and Plastics'}, {'ASJC': 2508, 'name': 'Surfaces, Coatings and Films'}, {'ASJC': 1600, 'name': 'General Chemistry'}], 'coverage-type': {'all': {'last-status-check-time': 1712016406978, 'affiliations': 0.2364525879530086, 'abstracts': 0.7570814246985136, 'orcids': 0.1472687046212334, 'licenses': 0.9759901530023994, 'references': 0.8140132747499299, 'funders': 0.1458352809198841, 'similarity-checking': 0.9300738524820042, 'award-numbers': 0.1211866255336387, 'ror-ids': 0.0, 'update-policies': 0.1387149044903556, 'resource-links': 0.9489420709856345, 'descriptions': 0.0}, 'backfile': {'last-status-check-time': 1712016406978, 'affiliations': 0.1975829719881951, 'abstracts': 0.7484543221275122, 'orcids': 0.1018416236624734, 'licenses': 0.9764727218769063, 'references': 0.8087481245775147, 'funders': 0.1214119664319984, 'similarity-checking': 0.9278683659505713, 'award-numbers': 0.09902230722305574, 'ror-ids': 0.0, 'update-policies': 0.09048192175160338, 'resource-links': 0.9743293818937233, 'descriptions': 0.0}, 'current': {'last-status-check-time': 1712016406978, 'affiliations': 0.9047619047619048, 'abstracts': 0.9056122448979592, 'orcids': 0.9282879818594104, 'licenses': 0.9679705215419501, 'references': 0.9047619047619048, 'funders': 0.5657596371882087, 'similarity-checking': 0.9679705215419501, 'award-numbers': 0.502267573696145, 'ror-ids': 0.0, 'update-policies': 0.9679705215419501, 'resource-links': 0.5127551020408163, 'descriptions': 0.0}}, 'flags': {'deposits-abstracts-current': True, 'deposits-orcids-current': True, 'deposits': True, 'deposits-affiliations-backfile': True, 'deposits-update-policies-backfile': True, 'deposits-similarity-checking-backfile': True, 'deposits-award-numbers-current': True, 'deposits-resource-links-current': True, 'deposits-ror-ids-current': False, 'deposits-articles': True, 'deposits-affiliations-current': True, 'deposits-funders-current': True, 'deposits-references-backfile': True, 'deposits-ror-ids-backfile': False, 'deposits-abstracts-backfile': True, 'deposits-licenses-backfile': True, 'deposits-award-numbers-backfile': True, 'deposits-descriptions-current': False, 'deposits-references-current': True, 'deposits-resource-links-backfile': True, 'deposits-descriptions-backfile': False, 'deposits-orcids-backfile': True, 'deposits-funders-backfile': True, 'deposits-update-policies-current': True, 'deposits-similarity-checking-current': True, 'deposits-licenses-current': True}, 'ISSN': ['0021-8995', '1097-4628'], 'issn-type': [{'value': '0021-8995', 'type': 'print'}, {'value': '1097-4628', 'type': 'electronic'}]}, {'last-status-check-time': 1712016419524, 'counts': {'current-dois': 176, 'backfile-dois': 2255, 'total-dois': 2431}, 'breakdowns': {'dois-by-issued-year': [[2010, 98], [2021, 92], [2015, 85], [1996, 81], [2023, 80], [2009, 79], [2018, 78], [2012, 76], [2007, 75], [2006, 73], [2019, 70], [2016, 70], [2022, 68], [1992, 67], [2011, 66], [2020, 65], [1997, 65], [1995, 64], [2013, 62], [1994, 62], [2014, 61], [2005, 61], [2002, 61], [1993, 61], [2004, 60], [2008, 59], [1998, 59], [2001, 55], [1999, 53], [1991, 52], [1989, 52], [2017, 51], [2000, 50], [1990, 43], [2003, 39], [1988, 39], [1987, 37], [1986, 34], [2024, 28]]}, 'publisher': 'Wiley (John Wiley & Sons)', 'coverage': {'affiliations-current': 0.7840909090909091, 'similarity-checking-current': 0.9090909090909091, 'descriptions-current': 0.0, 'ror-ids-current': 0.0, 'funders-backfile': 0.04878048780487805, 'licenses-backfile': 0.9649667405764967, 'funders-current': 0.2215909090909091, 'affiliations-backfile': 0.269179600886918, 'resource-links-backfile': 0.9649667405764967, 'orcids-backfile': 0.01286031042128603, 'update-policies-current': 0.9090909090909091, 'ror-ids-backfile': 0.0, 'orcids-current': 0.09659090909090909, 'similarity-checking-backfile': 0.917960088691796, 'references-backfile': 0.7317073170731707, 'descriptions-backfile': 0.0, 'award-numbers-backfile': 0.03813747228381375, 'update-policies-backfile': 0.1184035476718404, 'licenses-current': 0.9090909090909091, 'award-numbers-current': 0.1931818181818182, 'abstracts-backfile': 0.5751662971175165, 'resource-links-current': 0.5, 'abstracts-current': 0.8693181818181818, 'references-current': 0.8011363636363636}, 'title': 'Journal of Applied Econometrics', 'subjects': [{'ASJC': 2002, 'name': 'Economics and Econometrics'}, {'ASJC': 3301, 'name': 'Social Sciences (miscellaneous)'}], 'coverage-type': {'all': {'last-status-check-time': 1712016419524, 'affiliations': 0.3063322368421053, 'abstracts': 0.5962171052631579, 'orcids': 0.01891447368421053, 'licenses': 0.9605263157894737, 'references': 0.7364309210526316, 'funders': 0.06126644736842105, 'similarity-checking': 0.9173519736842105, 'award-numbers': 0.04934210526315789, 'ror-ids': 0.0, 'update-policies': 0.1755756578947368, 'resource-links': 0.9309210526315789, 'descriptions': 0.0}, 'backfile': {'last-status-check-time': 1712016419524, 'affiliations': 0.269179600886918, 'abstracts': 0.5751662971175165, 'orcids': 0.01286031042128603, 'licenses': 0.9649667405764967, 'references': 0.7317073170731707, 'funders': 0.04878048780487805, 'similarity-checking': 0.917960088691796, 'award-numbers': 0.03813747228381375, 'ror-ids': 0.0, 'update-policies': 0.1184035476718404, 'resource-links': 0.9649667405764967, 'descriptions': 0.0}, 'current': {'last-status-check-time': 1712016419524, 'affiliations': 0.7840909090909091, 'abstracts': 0.8693181818181818, 'orcids': 0.09659090909090909, 'licenses': 0.9090909090909091, 'references': 0.8011363636363636, 'funders': 0.2215909090909091, 'similarity-checking': 0.9090909090909091, 'award-numbers': 0.1931818181818182, 'ror-ids': 0.0, 'update-policies': 0.9090909090909091, 'resource-links': 0.5, 'descriptions': 0.0}}, 'flags': {'deposits-abstracts-current': True, 'deposits-orcids-current': True, 'deposits': True, 'deposits-affiliations-backfile': True, 'deposits-update-policies-backfile': True, 'deposits-similarity-checking-backfile': True, 'deposits-award-numbers-current': True, 'deposits-resource-links-current': True, 'deposits-ror-ids-current': False, 'deposits-articles': True, 'deposits-affiliations-current': True, 'deposits-funders-current': True, 'deposits-references-backfile': True, 'deposits-ror-ids-backfile': False, 'deposits-abstracts-backfile': True, 'deposits-licenses-backfile': True, 'deposits-award-numbers-backfile': True, 'deposits-descriptions-current': False, 'deposits-references-current': True, 'deposits-resource-links-backfile': True, 'deposits-descriptions-backfile': False, 'deposits-orcids-backfile': True, 'deposits-funders-backfile': True, 'deposits-update-policies-current': True, 'deposits-similarity-checking-current': True, 'deposits-licenses-current': True}, 'ISSN': ['0883-7252', '1099-1255'], 'issn-type': [{'value': '0883-7252', 'type': 'print'}, {'value': '1099-1255', 'type': 'electronic'}]}, {'last-status-check-time': 1712016425611, 'counts': {'current-dois': 715, 'backfile-dois': 9771, 'total-dois': 10486}, 'breakdowns': {'dois-by-issued-year': [[2012, 585], [2007, 472], [2013, 470], [2011, 467], [2021, 436], [2006, 416], [2010, 400], [2020, 391], [2018, 371], [2015, 368], [2002, 366], [2016, 362], [2009, 361], [2017, 352], [2022, 351], [2001, 345], [2019, 330], [2004, 327], [2008, 326], [2000, 321], [2005, 311], [2014, 309], [1999, 296], [2003, 289], [2023, 282], [1998, 274], [1997, 213], [1996, 198], [2024, 82], [1995, 75], [1994, 55], [1993, 45], [1992, 41], [1991, 41], [1989, 41], [1988, 41], [1990, 38], [1987, 27], [1986, 11]]}, 'publisher': 'Wiley (John Wiley & Sons)', 'coverage': {'affiliations-current': 0.9104895104895105, 'similarity-checking-current': 0.9608391608391608, 'descriptions-current': 0.0, 'ror-ids-current': 0.0, 'funders-backfile': 0.1856514174598301, 'licenses-backfile': 0.9749258008392181, 'funders-current': 0.6293706293706294, 'affiliations-backfile': 0.3659809640773718, 'resource-links-backfile': 0.9705250230273258, 'orcids-backfile': 0.171016272643537, 'update-policies-current': 0.9608391608391608, 'ror-ids-backfile': 0.0, 'orcids-current': 0.8825174825174825, 'similarity-checking-backfile': 0.9156688158837376, 'references-backfile': 0.8388087196806877, 'descriptions-backfile': 0.0, 'award-numbers-backfile': 0.1357077064783543, 'update-policies-backfile': 0.1411319209906867, 'licenses-current': 0.9608391608391608, 'award-numbers-current': 0.4475524475524476, 'abstracts-backfile': 0.6365776276737284, 'resource-links-current': 0.5832167832167832, 'abstracts-current': 0.8755244755244755, 'references-current': 0.9174825174825175}, 'title': 'Hydrological Processes', 'subjects': [{'ASJC': 2312, 'name': 'Water Science and Technology'}], 'coverage-type': {'all': {'last-status-check-time': 1712016425611, 'affiliations': 0.4030704681987222, 'abstracts': 0.6528082387718127, 'orcids': 0.2195098693620673, 'licenses': 0.9738724134642891, 'references': 0.8440926861828931, 'funders': 0.2158863354629541, 'similarity-checking': 0.9187565557356727, 'award-numbers': 0.1569562315247449, 'ror-ids': 0.0, 'update-policies': 0.1970058167254696, 'resource-links': 0.9440259368742252, 'descriptions': 0.0}, 'backfile': {'last-status-check-time': 1712016425611, 'affiliations': 0.3659809640773718, 'abstracts': 0.6365776276737284, 'orcids': 0.171016272643537, 'licenses': 0.9749258008392181, 'references': 0.8388087196806877, 'funders': 0.1856514174598301, 'similarity-checking': 0.9156688158837376, 'award-numbers': 0.1357077064783543, 'ror-ids': 0.0, 'update-policies': 0.1411319209906867, 'resource-links': 0.9705250230273258, 'descriptions': 0.0}, 'current': {'last-status-check-time': 1712016425611, 'affiliations': 0.9104895104895105, 'abstracts': 0.8755244755244755, 'orcids': 0.8825174825174825, 'licenses': 0.9608391608391608, 'references': 0.9174825174825175, 'funders': 0.6293706293706294, 'similarity-checking': 0.9608391608391608, 'award-numbers': 0.4475524475524476, 'ror-ids': 0.0, 'update-policies': 0.9608391608391608, 'resource-links': 0.5832167832167832, 'descriptions': 0.0}}, 'flags': {'deposits-abstracts-current': True, 'deposits-orcids-current': True, 'deposits': True, 'deposits-affiliations-backfile': True, 'deposits-update-policies-backfile': True, 'deposits-similarity-checking-backfile': True, 'deposits-award-numbers-current': True, 'deposits-resource-links-current': True, 'deposits-ror-ids-current': False, 'deposits-articles': True, 'deposits-affiliations-current': True, 'deposits-funders-current': True, 'deposits-references-backfile': True, 'deposits-ror-ids-backfile': False, 'deposits-abstracts-backfile': True, 'deposits-licenses-backfile': True, 'deposits-award-numbers-backfile': True, 'deposits-descriptions-current': False, 'deposits-references-current': True, 'deposits-resource-links-backfile': True, 'deposits-descriptions-backfile': False, 'deposits-orcids-backfile': True, 'deposits-funders-backfile': True, 'deposits-update-policies-current': True, 'deposits-similarity-checking-current': True, 'deposits-licenses-current': True}, 'ISSN': ['0885-6087', '1099-1085'], 'issn-type': [{'value': '0885-6087', 'type': 'print'}, {'value': '1099-1085', 'type': 'electronic'}]}, {'last-status-check-time': 1712016431853, 'counts': {'current-dois': 88, 'backfile-dois': 1442, 'total-dois': 1530}, 'breakdowns': {'dois-by-issued-year': [[2020, 69], [1998, 67], [1999, 65], [1996, 65], [2017, 62], [1995, 59], [1997, 54], [2006, 53], [2011, 51], [2005, 50], [2002, 50], [2021, 49], [2018, 48], [2008, 47], [2001, 47], [2004, 46], [2000, 46], [2023, 45], [2016, 45], [1992, 45], [2015, 43], [2007, 42], [2003, 41], [1994, 40], [2010, 39], [2019, 36], [2014, 36], [2013, 35], [1993, 34], [2012, 30], [2009, 30], [2022, 29], [1991, 18], [2024, 14]]}, 'publisher': 'Wiley (John Wiley & Sons)', 'coverage': {'affiliations-current': 0.6704545454545455, 'similarity-checking-current': 0.8409090909090909, 'descriptions-current': 0.0, 'ror-ids-current': 0.0, 'funders-backfile': 0.09847434119278779, 'licenses-backfile': 0.9514563106796117, 'funders-current': 0.1818181818181818, 'affiliations-backfile': 0.2447988904299584, 'resource-links-backfile': 0.9292649098474342, 'orcids-backfile': 0.130374479889043, 'update-policies-current': 0.8409090909090909, 'ror-ids-backfile': 0.0, 'orcids-current': 0.5568181818181818, 'similarity-checking-backfile': 0.8640776699029126, 'references-backfile': 0.492371705963939, 'descriptions-backfile': 0.0, 'award-numbers-backfile': 0.07558945908460472, 'update-policies-backfile': 0.1206657420249653, 'licenses-current': 0.8409090909090909, 'award-numbers-current': 0.1477272727272727, 'abstracts-backfile': 0.5471567267683773, 'resource-links-current': 0.3522727272727273, 'abstracts-current': 0.7954545454545455, 'references-current': 0.6477272727272727}, 'title': 'International Journal of Network Management', 'subjects': [{'ASJC': 1705, 'name': 'Computer Networks and Communications'}, {'ASJC': 1706, 'name': 'Computer Science Applications'}], 'coverage-type': {'all': {'last-status-check-time': 1712016431853, 'affiliations': 0.2691051600261267, 'abstracts': 0.5610711952971914, 'orcids': 0.154800783801437, 'licenses': 0.9444807315480078, 'references': 0.5009797517962116, 'funders': 0.1032005225342913, 'similarity-checking': 0.8628347485303723, 'award-numbers': 0.07968647942521229, 'ror-ids': 0.0, 'update-policies': 0.1619856303069889, 'resource-links': 0.8954931417374264, 'descriptions': 0.0}, 'backfile': {'last-status-check-time': 1712016431853, 'affiliations': 0.2447988904299584, 'abstracts': 0.5471567267683773, 'orcids': 0.130374479889043, 'licenses': 0.9514563106796117, 'references': 0.492371705963939, 'funders': 0.09847434119278779, 'similarity-checking': 0.8640776699029126, 'award-numbers': 0.07558945908460472, 'ror-ids': 0.0, 'update-policies': 0.1206657420249653, 'resource-links': 0.9292649098474342, 'descriptions': 0.0}, 'current': {'last-status-check-time': 1712016431853, 'affiliations': 0.6704545454545455, 'abstracts': 0.7954545454545455, 'orcids': 0.5568181818181818, 'licenses': 0.8409090909090909, 'references': 0.6477272727272727, 'funders': 0.1818181818181818, 'similarity-checking': 0.8409090909090909, 'award-numbers': 0.1477272727272727, 'ror-ids': 0.0, 'update-policies': 0.8409090909090909, 'resource-links': 0.3522727272727273, 'descriptions': 0.0}}, 'flags': {'deposits-abstracts-current': True, 'deposits-orcids-current': True, 'deposits': True, 'deposits-affiliations-backfile': True, 'deposits-update-policies-backfile': True, 'deposits-similarity-checking-backfile': True, 'deposits-award-numbers-current': True, 'deposits-resource-links-current': True, 'deposits-ror-ids-current': False, 'deposits-articles': True, 'deposits-affiliations-current': True, 'deposits-funders-current': True, 'deposits-references-backfile': True, 'deposits-ror-ids-backfile': False, 'deposits-abstracts-backfile': True, 'deposits-licenses-backfile': True, 'deposits-award-numbers-backfile': True, 'deposits-descriptions-current': False, 'deposits-references-current': True, 'deposits-resource-links-backfile': True, 'deposits-descriptions-backfile': False, 'deposits-orcids-backfile': True, 'deposits-funders-backfile': True, 'deposits-update-policies-current': True, 'deposits-similarity-checking-current': True, 'deposits-licenses-current': True}, 'ISSN': ['1055-7148', '1099-1190'], 'issn-type': [{'value': '1055-7148', 'type': 'print'}, {'value': '1099-1190', 'type': 'electronic'}]}, {'last-status-check-time': 1712016427076, 'counts': {'current-dois': 1105, 'backfile-dois': 30706, 'total-dois': 31811}, 'breakdowns': {'dois-by-issued-year': [[1997, 1182], [1999, 1135], [2000, 1079], [1998, 1075], [1996, 1019], [2001, 967], [2007, 886], [2011, 877], [2019, 866], [2005, 860], [2004, 854], [2006, 843], [2008, 830], [2009, 823], [2003, 800], [2002, 795], [2014, 774], [2010, 773], [1995, 723], [2017, 691], [2013, 687], [2018, 686], [2012, 683], [1994, 674], [2020, 646], [2016, 594], [1993, 551], [1992, 548], [1991, 536], [2015, 531], [2022, 516], [2021, 484], [2023, 468], [1989, 455], [1990, 442], [1988, 399], [1987, 320], [1984, 305], [1979, 305], [1986, 294], [1975, 293], [1983, 283], [1977, 278], [1978, 276], [1985, 272], [1982, 269], [1980, 269], [1976, 266], [1981, 259], [1974, 232], [1973, 180], [1972, 171], [1971, 144], [1970, 126], [2024, 121], [1968, 112], [1969, 111], [1967, 102], [1966, 71]]}, 'publisher': 'Wiley (John Wiley & Sons)', 'coverage': {'affiliations-current': 0.8271493212669683, 'similarity-checking-current': 0.9475113122171946, 'descriptions-current': 0.0, 'ror-ids-current': 0.0, 'funders-backfile': 0.1345339673028073, 'licenses-backfile': 0.9912069302416466, 'funders-current': 0.5357466063348416, 'affiliations-backfile': 0.1745912850908617, 'resource-links-backfile': 0.9890900801146356, 'orcids-backfile': 0.09151305933693742, 'update-policies-current': 0.9475113122171946, 'ror-ids-backfile': 0.0, 'orcids-current': 0.816289592760181, 'similarity-checking-backfile': 0.9190060574480557, 'references-backfile': 0.8335830130919039, 'descriptions-backfile': 0.0, 'award-numbers-backfile': 0.1014785383964046, 'update-policies-backfile': 0.08044030482641829, 'licenses-current': 0.9475113122171946, 'award-numbers-current': 0.4561085972850679, 'abstracts-backfile': 0.6471699342148114, 'resource-links-current': 0.5647058823529412, 'abstracts-current': 0.7746606334841629, 'references-current': 0.83710407239819}, 'title': 'International Journal of Cancer', 'subjects': [{'ASJC': 1306, 'name': 'Cancer Research'}, {'ASJC': 2730, 'name': 'Oncology'}], 'coverage-type': {'all': {'last-status-check-time': 1712016427076, 'affiliations': 0.1972526090783352, 'abstracts': 0.6515780208726267, 'orcids': 0.1166855274739092, 'licenses': 0.9896579906953351, 'references': 0.8336791147994467, 'funders': 0.1484659876776059, 'similarity-checking': 0.9199987426128505, 'award-numbers': 0.1137935370300516, 'ror-ids': 0.0, 'update-policies': 0.1105557651200805, 'resource-links': 0.9743178674713944, 'descriptions': 0.0}, 'backfile': {'last-status-check-time': 1712016427076, 'affiliations': 0.1745912850908617, 'abstracts': 0.6471699342148114, 'orcids': 0.09151305933693742, 'licenses': 0.9912069302416466, 'references': 0.8335830130919039, 'funders': 0.1345339673028073, 'similarity-checking': 0.9190060574480557, 'award-numbers': 0.1014785383964046, 'ror-ids': 0.0, 'update-policies': 0.08044030482641829, 'resource-links': 0.9890900801146356, 'descriptions': 0.0}, 'current': {'last-status-check-time': 1712016427076, 'affiliations': 0.8271493212669683, 'abstracts': 0.7746606334841629, 'orcids': 0.816289592760181, 'licenses': 0.9475113122171946, 'references': 0.83710407239819, 'funders': 0.5357466063348416, 'similarity-checking': 0.9475113122171946, 'award-numbers': 0.4561085972850679, 'ror-ids': 0.0, 'update-policies': 0.9475113122171946, 'resource-links': 0.5647058823529412, 'descriptions': 0.0}}, 'flags': {'deposits-abstracts-current': True, 'deposits-orcids-current': True, 'deposits': True, 'deposits-affiliations-backfile': True, 'deposits-update-policies-backfile': True, 'deposits-similarity-checking-backfile': True, 'deposits-award-numbers-current': True, 'deposits-resource-links-current': True, 'deposits-ror-ids-current': False, 'deposits-articles': True, 'deposits-affiliations-current': True, 'deposits-funders-current': True, 'deposits-references-backfile': True, 'deposits-ror-ids-backfile': False, 'deposits-abstracts-backfile': True, 'deposits-licenses-backfile': True, 'deposits-award-numbers-backfile': True, 'deposits-descriptions-current': False, 'deposits-references-current': True, 'deposits-resource-links-backfile': True, 'deposits-descriptions-backfile': False, 'deposits-orcids-backfile': True, 'deposits-funders-backfile': True, 'deposits-update-policies-current': True, 'deposits-similarity-checking-current': True, 'deposits-licenses-current': True}, 'ISSN': ['0020-7136', '1097-0215'], 'issn-type': [{'value': '0020-7136', 'type': 'print'}, {'value': '1097-0215', 'type': 'electronic'}]}, {'last-status-check-time': 1712016429536, 'counts': {'current-dois': 94, 'backfile-dois': 2895, 'total-dois': 2989}, 'breakdowns': {'dois-by-issued-year': [[1996, 124], [1998, 121], [1997, 105], [1995, 99], [1999, 96], [1993, 95], [1990, 94], [1992, 89], [1991, 88], [1994, 87], [2016, 76], [2017, 75], [2007, 71], [1989, 71], [2012, 68], [2002, 68], [1986, 68], [2013, 67], [2009, 66], [1987, 66], [1988, 64], [2004, 63], [2000, 60], [2018, 59], [1984, 59], [2005, 58], [2015, 57], [2006, 57], [1985, 57], [1983, 57], [2008, 56], [2021, 55], [1982, 53], [1981, 53], [2010, 52], [2019, 50], [2014, 50], [2011, 48], [2003, 47], [2001, 47], [2023, 43], [1980, 43], [2022, 42], [2020, 40], [1979, 16], [2024, 9]]}, 'publisher': 'Wiley (John Wiley & Sons)', 'coverage': {'affiliations-current': 0.7234042553191489, 'similarity-checking-current': 0.8617021276595745, 'descriptions-current': 0.0, 'ror-ids-current': 0.0, 'funders-backfile': 0.05043177892918826, 'licenses-backfile': 0.9647668393782383, 'funders-current': 0.2234042553191489, 'affiliations-backfile': 0.1658031088082902, 'resource-links-backfile': 0.9637305699481865, 'orcids-backfile': 0.06666666666666667, 'update-policies-current': 0.8617021276595745, 'ror-ids-backfile': 0.0, 'orcids-current': 0.6914893617021277, 'similarity-checking-backfile': 0.9015544041450777, 'references-backfile': 0.6690846286701209, 'descriptions-backfile': 0.0, 'award-numbers-backfile': 0.03730569948186528, 'update-policies-backfile': 0.05526770293609672, 'licenses-current': 0.8617021276595745, 'award-numbers-current': 0.1808510638297872, 'abstracts-backfile': 0.6048359240069086, 'resource-links-current': 0.5, 'abstracts-current': 0.8404255319148936, 'references-current': 0.7234042553191489}, 'title': 'Biopharmaceutics & Drug Disposition', 'subjects': [{'ASJC': 2736, 'name': 'Pharmacology (medical)'}, {'ASJC': 3003, 'name': 'Pharmaceutical Science'}, {'ASJC': 3004, 'name': 'Pharmacology'}, {'ASJC': 2700, 'name': 'General Medicine'}], 'coverage-type': {'all': {'last-status-check-time': 1712016429536, 'affiliations': 0.1832163156135072, 'abstracts': 0.6118355065195586, 'orcids': 0.08625877632898696, 'licenses': 0.9608826479438315, 'references': 0.6703443664326312, 'funders': 0.05583416917418923, 'similarity-checking': 0.9003677699765965, 'award-numbers': 0.04179204279505182, 'ror-ids': 0.0, 'update-policies': 0.0805750585088599, 'resource-links': 0.9485122032764962, 'descriptions': 0.0}, 'backfile': {'last-status-check-time': 1712016429536, 'affiliations': 0.1658031088082902, 'abstracts': 0.6048359240069086, 'orcids': 0.06666666666666667, 'licenses': 0.9647668393782383, 'references': 0.6690846286701209, 'funders': 0.05043177892918826, 'similarity-checking': 0.9015544041450777, 'award-numbers': 0.03730569948186528, 'ror-ids': 0.0, 'update-policies': 0.05526770293609672, 'resource-links': 0.9637305699481865, 'descriptions': 0.0}, 'current': {'last-status-check-time': 1712016429536, 'affiliations': 0.7234042553191489, 'abstracts': 0.8404255319148936, 'orcids': 0.6914893617021277, 'licenses': 0.8617021276595745, 'references': 0.7234042553191489, 'funders': 0.2234042553191489, 'similarity-checking': 0.8617021276595745, 'award-numbers': 0.1808510638297872, 'ror-ids': 0.0, 'update-policies': 0.8617021276595745, 'resource-links': 0.5, 'descriptions': 0.0}}, 'flags': {'deposits-abstracts-current': True, 'deposits-orcids-current': True, 'deposits': True, 'deposits-affiliations-backfile': True, 'deposits-update-policies-backfile': True, 'deposits-similarity-checking-backfile': True, 'deposits-award-numbers-current': True, 'deposits-resource-links-current': True, 'deposits-ror-ids-current': False, 'deposits-articles': True, 'deposits-affiliations-current': True, 'deposits-funders-current': True, 'deposits-references-backfile': True, 'deposits-ror-ids-backfile': False, 'deposits-abstracts-backfile': True, 'deposits-licenses-backfile': True, 'deposits-award-numbers-backfile': True, 'deposits-descriptions-current': False, 'deposits-references-current': True, 'deposits-resource-links-backfile': True, 'deposits-descriptions-backfile': False, 'deposits-orcids-backfile': True, 'deposits-funders-backfile': True, 'deposits-update-policies-current': True, 'deposits-similarity-checking-current': True, 'deposits-licenses-current': True}, 'ISSN': ['0142-2782', '1099-081X'], 'issn-type': [{'value': '0142-2782', 'type': 'print'}, {'value': '1099-081X', 'type': 'electronic'}]}, {'last-status-check-time': 1712016434491, 'counts': {'current-dois': 136, 'backfile-dois': 3656, 'total-dois': 3792}, 'breakdowns': {'dois-by-issued-year': [[1998, 185], [1997, 170], [1996, 163], [1999, 146], [1994, 130], [2000, 126], [1995, 126], [1993, 122], [1989, 122], [1992, 112], [2017, 109], [1991, 108], [2009, 105], [2018, 103], [2005, 102], [2013, 101], [2001, 101], [1990, 101], [2008, 98], [2002, 96], [2004, 95], [2019, 94], [2014, 90], [2012, 90], [2007, 88], [2003, 88], [2011, 87], [2006, 87], [2010, 86], [2016, 85], [2020, 78], [1988, 74], [2015, 69], [2023, 64], [2022, 61], [1987, 60], [2021, 59], [2024, 11]]}, 'publisher': 'Wiley (John Wiley & Sons)', 'coverage': {'affiliations-current': 0.698529411764706, 'similarity-checking-current': 0.8676470588235294, 'descriptions-current': 0.0, 'ror-ids-current': 0.0, 'funders-backfile': 0.1047592997811816, 'licenses-backfile': 0.9767505470459519, 'funders-current': 0.3235294117647059, 'affiliations-backfile': 0.1652078774617068, 'resource-links-backfile': 0.9762035010940919, 'orcids-backfile': 0.03336980306345733, 'update-policies-current': 0.8676470588235294, 'ror-ids-backfile': 0.0, 'orcids-current': 0.4558823529411765, 'similarity-checking-backfile': 0.8922319474835886, 'references-backfile': 0.7223741794310722, 'descriptions-backfile': 0.0, 'award-numbers-backfile': 0.08068927789934353, 'update-policies-backfile': 0.07549234135667396, 'licenses-current': 0.8676470588235294, 'award-numbers-current': 0.2279411764705882, 'abstracts-backfile': 0.537472647702407, 'resource-links-current': 0.5073529411764706, 'abstracts-current': 0.676470588235294, 'references-current': 0.6911764705882353}, 'title': 'Environmental and Molecular Mutagenesis', 'subjects': [{'ASJC': 2307, 'name': 'Health, Toxicology and Mutagenesis'}, {'ASJC': 2716, 'name': 'Genetics (clinical)'}, {'ASJC': 2713, 'name': 'Epidemiology'}], 'coverage-type': {'all': {'last-status-check-time': 1712016434491, 'affiliations': 0.1842868441866596, 'abstracts': 0.5423147904033746, 'orcids': 0.04851041392037965, 'licenses': 0.9725810703928289, 'references': 0.721065119957817, 'funders': 0.1125757975217506, 'similarity-checking': 0.891378855786976, 'award-numbers': 0.08594779857632481, 'ror-ids': 0.0, 'update-policies': 0.1038755602425521, 'resource-links': 0.9591352491431584, 'descriptions': 0.0}, 'backfile': {'last-status-check-time': 1712016434491, 'affiliations': 0.1652078774617068, 'abstracts': 0.537472647702407, 'orcids': 0.03336980306345733, 'licenses': 0.9767505470459519, 'references': 0.7223741794310722, 'funders': 0.1047592997811816, 'similarity-checking': 0.8922319474835886, 'award-numbers': 0.08068927789934353, 'ror-ids': 0.0, 'update-policies': 0.07549234135667396, 'resource-links': 0.9762035010940919, 'descriptions': 0.0}, 'current': {'last-status-check-time': 1712016434491, 'affiliations': 0.698529411764706, 'abstracts': 0.676470588235294, 'orcids': 0.4558823529411765, 'licenses': 0.8676470588235294, 'references': 0.6911764705882353, 'funders': 0.3235294117647059, 'similarity-checking': 0.8676470588235294, 'award-numbers': 0.2279411764705882, 'ror-ids': 0.0, 'update-policies': 0.8676470588235294, 'resource-links': 0.5073529411764706, 'descriptions': 0.0}}, 'flags': {'deposits-abstracts-current': True, 'deposits-orcids-current': True, 'deposits': True, 'deposits-affiliations-backfile': True, 'deposits-update-policies-backfile': True, 'deposits-similarity-checking-backfile': True, 'deposits-award-numbers-current': True, 'deposits-resource-links-current': True, 'deposits-ror-ids-current': False, 'deposits-articles': True, 'deposits-affiliations-current': True, 'deposits-funders-current': True, 'deposits-references-backfile': True, 'deposits-ror-ids-backfile': False, 'deposits-abstracts-backfile': True, 'deposits-licenses-backfile': True, 'deposits-award-numbers-backfile': True, 'deposits-descriptions-current': False, 'deposits-references-current': True, 'deposits-resource-links-backfile': True, 'deposits-descriptions-backfile': False, 'deposits-orcids-backfile': True, 'deposits-funders-backfile': True, 'deposits-update-policies-current': True, 'deposits-similarity-checking-current': True, 'deposits-licenses-current': True}, 'ISSN': ['0893-6692', '1098-2280'], 'issn-type': [{'value': '0893-6692', 'type': 'print'}, {'value': '1098-2280', 'type': 'electronic'}]}, {'last-status-check-time': 1712016441274, 'counts': {'current-dois': 3474, 'backfile-dois': 4713, 'total-dois': 8187}, 'breakdowns': {'dois-by-issued-year': [[2022, 2550], [2021, 1212], [2023, 916], [2018, 596], [2020, 367], [2011, 302], [2019, 269], [2012, 227], [2017, 220], [2006, 154], [2013, 150], [2016, 148], [2008, 146], [2014, 128], [2007, 128], [2015, 110], [2009, 106], [2005, 89], [2010, 87], [2004, 82], [2002, 79], [2003, 68], [2001, 45], [2024, 8]]}, 'publisher': 'Hindawi Limited', 'coverage': {'affiliations-current': 0.7803684513529073, 'similarity-checking-current': 1.0, 'descriptions-current': 0.0, 'ror-ids-current': 0.0, 'funders-backfile': 0.437937619350732, 'licenses-backfile': 0.9849352853808614, 'funders-current': 0.4251583189407024, 'affiliations-backfile': 0.7004031402503713, 'resource-links-backfile': 0.9830256736685763, 'orcids-backfile': 0.5688521111818375, 'update-policies-current': 0.2199194012665515, 'ror-ids-backfile': 0.0, 'orcids-current': 0.7803684513529073, 'similarity-checking-backfile': 0.9732654360280076, 'references-backfile': 0.9089751750477403, 'descriptions-backfile': 0.0, 'award-numbers-backfile': 0.4044133248461702, 'update-policies-backfile': 0.003819223424570337, 'licenses-current': 1.0, 'award-numbers-current': 0.3981001727115717, 'abstracts-backfile': 0.8599618077657543, 'resource-links-current': 1.0, 'abstracts-current': 0.7789291882556131, 'references-current': 0.9994242947610823}, 'title': 'Wireless Communications and Mobile Computing', 'subjects': [{'ASJC': 2208, 'name': 'Electrical and Electronic Engineering'}, {'ASJC': 1705, 'name': 'Computer Networks and Communications'}, {'ASJC': 1710, 'name': 'Information Systems'}], 'coverage-type': {'all': {'last-status-check-time': 1712016441274, 'affiliations': 0.7341555745512273, 'abstracts': 0.8253755037245085, 'orcids': 0.6584442544877274, 'licenses': 0.9910856026376847, 'references': 0.9471241909879106, 'funders': 0.4324093295884723, 'similarity-checking': 0.9844913908902186, 'award-numbers': 0.4016363414336305, 'ror-ids': 0.0, 'update-policies': 0.09549395530589816, 'resource-links': 0.9899865673464403, 'descriptions': 0.0}, 'backfile': {'last-status-check-time': 1712016441274, 'affiliations': 0.7004031402503713, 'abstracts': 0.8599618077657543, 'orcids': 0.5688521111818375, 'licenses': 0.9849352853808614, 'references': 0.9089751750477403, 'funders': 0.437937619350732, 'similarity-checking': 0.9732654360280076, 'award-numbers': 0.4044133248461702, 'ror-ids': 0.0, 'update-policies': 0.003819223424570337, 'resource-links': 0.9830256736685763, 'descriptions': 0.0}, 'current': {'last-status-check-time': 1712016441274, 'affiliations': 0.7803684513529073, 'abstracts': 0.7789291882556131, 'orcids': 0.7803684513529073, 'licenses': 1.0, 'references': 0.9994242947610823, 'funders': 0.4251583189407024, 'similarity-checking': 1.0, 'award-numbers': 0.3981001727115717, 'ror-ids': 0.0, 'update-policies': 0.2199194012665515, 'resource-links': 1.0, 'descriptions': 0.0}}, 'flags': {'deposits-abstracts-current': True, 'deposits-orcids-current': True, 'deposits': True, 'deposits-affiliations-backfile': True, 'deposits-update-policies-backfile': True, 'deposits-similarity-checking-backfile': True, 'deposits-award-numbers-current': True, 'deposits-resource-links-current': True, 'deposits-ror-ids-current': False, 'deposits-articles': True, 'deposits-affiliations-current': True, 'deposits-funders-current': True, 'deposits-references-backfile': True, 'deposits-ror-ids-backfile': False, 'deposits-abstracts-backfile': True, 'deposits-licenses-backfile': True, 'deposits-award-numbers-backfile': True, 'deposits-descriptions-current': False, 'deposits-references-current': True, 'deposits-resource-links-backfile': True, 'deposits-descriptions-backfile': False, 'deposits-orcids-backfile': True, 'deposits-funders-backfile': True, 'deposits-update-policies-current': True, 'deposits-similarity-checking-current': True, 'deposits-licenses-current': True}, 'ISSN': ['1530-8669', '1530-8677'], 'issn-type': [{'value': '1530-8669', 'type': 'print'}, {'value': '1530-8677', 'type': 'electronic'}]}, {'last-status-check-time': 1712016445126, 'counts': {'current-dois': 0, 'backfile-dois': 14111, 'total-dois': 14111}, 'breakdowns': {'dois-by-issued-year': [[2005, 300], [2009, 291], [2018, 282], [1996, 279], [1991, 272], [2013, 269], [1998, 264], [1983, 253], [1988, 249], [2017, 247], [2007, 247], [1987, 246], [1986, 246], [1982, 245], [2020, 242], [2016, 242], [2014, 241], [2019, 240], [2000, 239], [2010, 237], [1985, 237], [1989, 233], [1999, 230], [2012, 229], [1973, 229], [1997, 228], [1990, 228], [2003, 226], [2015, 225], [1993, 220], [1984, 219], [1992, 217], [1981, 214], [2011, 208], [2008, 200], [1994, 198], [2021, 190], [1995, 190], [2006, 184], [2001, 177], [1978, 176], [2002, 168], [1974, 168], [1976, 164], [1979, 155], [1980, 150], [1972, 148], [1966, 145], [1970, 144], [1975, 139], [1977, 129], [1971, 129], [1969, 129], [2004, 127], [1967, 126], [1968, 122], [1964, 116], [1965, 91], [1962, 89], [1963, 80], [1955, 75], [1954, 69], [1956, 64], [1949, 63], [1940, 63], [1950, 62], [1961, 61], [1952, 61], [1957, 59], [1960, 57], [1928, 54], [1951, 51], [1947, 51], [1948, 50], [1930, 50], [1953, 49], [1946, 49], [1927, 48], [1934, 46], [1944, 45], [1959, 44], [1958, 44], [1945, 43], [1936, 43], [1939, 42], [1937, 42], [1943, 41], [1926, 41], [1931, 40], [1929, 40], [1925, 38], [1919, 38], [1941, 37], [1938, 35], [1932, 35], [1924, 35], [1922, 35], [1935, 34], [1920, 34], [1918, 30], [1942, 28], [1921, 28], [1933, 26], [1923, 23]]}, 'publisher': 'Wiley (John Wiley & Sons)', 'coverage': {'affiliations-current': 0.0, 'similarity-checking-current': 0.0, 'descriptions-current': 0.0, 'ror-ids-current': 0.0, 'funders-backfile': 0.07646516901707887, 'licenses-backfile': 0.9576217135567997, 'funders-current': 0.0, 'affiliations-backfile': 0.1306781943164907, 'resource-links-backfile': 0.9563461129615194, 'orcids-backfile': 0.06803203174828149, 'update-policies-current': 0.0, 'ror-ids-backfile': 0.0, 'orcids-current': 0.0, 'similarity-checking-backfile': 0.926652965771384, 'references-backfile': 0.6381546311388279, 'descriptions-backfile': 0.0, 'award-numbers-backfile': 0.05570122599390546, 'update-policies-backfile': 0.05896109418184395, 'licenses-current': 0.0, 'award-numbers-current': 0.0, 'abstracts-backfile': 0.4517043441286939, 'resource-links-current': 0.0, 'abstracts-current': 0.0, 'references-current': 0.0}, 'title': 'American Journal of Physical Anthropology', 'subjects': [{'ASJC': 3314, 'name': 'Anthropology'}, {'ASJC': 2702, 'name': 'Anatomy'}], 'coverage-type': {'all': {'last-status-check-time': 1712016445126, 'affiliations': 0.1306689342403628, 'abstracts': 0.451672335600907, 'orcids': 0.06802721088435373, 'licenses': 0.9575538548752834, 'references': 0.638109410430839, 'funders': 0.07645975056689341, 'similarity-checking': 0.9266581632653061, 'award-numbers': 0.05569727891156463, 'ror-ids': 0.0, 'update-policies': 0.05895691609977324, 'resource-links': 0.9562783446712018, 'descriptions': 0.0}, 'backfile': {'last-status-check-time': 1712016445126, 'affiliations': 0.1306781943164907, 'abstracts': 0.4517043441286939, 'orcids': 0.06803203174828149, 'licenses': 0.9576217135567997, 'references': 0.6381546311388279, 'funders': 0.07646516901707887, 'similarity-checking': 0.926652965771384, 'award-numbers': 0.05570122599390546, 'ror-ids': 0.0, 'update-policies': 0.05896109418184395, 'resource-links': 0.9563461129615194, 'descriptions': 0.0}, 'current': {'last-status-check-time': 1712016445126, 'affiliations': 0.0, 'abstracts': 0.0, 'orcids': 0.0, 'licenses': 0.0, 'references': 0.0, 'funders': 0.0, 'similarity-checking': 0.0, 'award-numbers': 0.0, 'ror-ids': 0.0, 'update-policies': 0.0, 'resource-links': 0.0, 'descriptions': 0.0}}, 'flags': {'deposits-abstracts-current': False, 'deposits-orcids-current': False, 'deposits': True, 'deposits-affiliations-backfile': True, 'deposits-update-policies-backfile': True, 'deposits-similarity-checking-backfile': True, 'deposits-award-numbers-current': False, 'deposits-resource-links-current': False, 'deposits-ror-ids-current': False, 'deposits-articles': True, 'deposits-affiliations-current': False, 'deposits-funders-current': False, 'deposits-references-backfile': True, 'deposits-ror-ids-backfile': False, 'deposits-abstracts-backfile': True, 'deposits-licenses-backfile': True, 'deposits-award-numbers-backfile': True, 'deposits-descriptions-current': False, 'deposits-references-current': False, 'deposits-resource-links-backfile': True, 'deposits-descriptions-backfile': False, 'deposits-orcids-backfile': True, 'deposits-funders-backfile': True, 'deposits-update-policies-current': False, 'deposits-similarity-checking-current': False, 'deposits-licenses-current': False}, 'ISSN': ['0002-9483', '1096-8644'], 'issn-type': [{'value': '0002-9483', 'type': 'print'}, {'value': '1096-8644', 'type': 'electronic'}]}, {'last-status-check-time': 1712016454363, 'counts': {'current-dois': 521, 'backfile-dois': 34725, 'total-dois': 35246}, 'breakdowns': {'dois-by-issued-year': [[1834, 343], [1828, 343], [1932, 273], [1931, 265], [1839, 254], [1853, 253], [1930, 249], [1897, 247], [1837, 247], [1874, 246], [1902, 245], [1843, 244], [1898, 241], [2022, 240], [1833, 238], [2023, 235], [2017, 234], [1842, 231], [2005, 230], [1913, 230], [1904, 230], [1836, 230], [1846, 228], [1855, 226], [1907, 225], [1841, 225], [2009, 224], [1840, 222], [1905, 219], [1899, 219], [1914, 218], [1906, 218], [1903, 218], [1803, 218], [2019, 217], [1829, 217], [1912, 216], [1936, 214], [1854, 214], [1847, 214], [1827, 212], [1835, 209], [1935, 208], [1933, 208], [1887, 208], [1857, 208], [1938, 207], [1896, 207], [1870, 207], [1844, 206], [1926, 205], [1845, 205], [1929, 204], [1901, 204], [1830, 204], [1859, 203], [1852, 202], [1838, 202], [1882, 201], [1860, 201], [1848, 201], [1875, 200], [1927, 199], [1863, 199], [1910, 197], [1890, 197], [1856, 197], [1851, 197], [2020, 196], [1911, 196], [1869, 196], [1866, 196], [1864, 196], [1894, 195], [1928, 193], [1900, 193], [1876, 192], [2021, 189], [1909, 189], [1850, 189], [1934, 188], [1865, 188], [1858, 187], [1883, 184], [1937, 183], [1805, 183], [1800, 183], [1998, 182], [1889, 182], [1880, 182], [2012, 181], [1868, 181], [1849, 181], [2013, 180], [1893, 180], [1877, 180], [1862, 180], [2004, 179], [1826, 179], [1915, 178], [1832, 178], [2008, 177], [1939, 177], [1892, 177], [1888, 177], [1886, 177], [1881, 177], [2010, 176], [2000, 176], [1908, 176], [1916, 174], [1885, 174], [1925, 173], [1924, 173], [1884, 173], [1895, 171], [1861, 171], [1871, 170], [1811, 170], [1999, 169], [1920, 168], [1872, 166], [2018, 164], [1822, 164], [1821, 164], [1891, 162], [1878, 162], [1867, 158], [1831, 158], [1879, 154], [1919, 153], [1820, 150], [1823, 149], [1873, 148], [1806, 147], [2015, 146], [1922, 146], [1917, 146], [1950, 140], [1923, 139], [2011, 137], [1808, 137], [2016, 135], [1809, 129], [1804, 129], [1921, 128], [1918, 128], [1818, 128], [2006, 127], [1973, 127], [1807, 126], [1819, 125], [1812, 123], [1825, 121], [1816, 121], [2014, 120], [2001, 120], [1810, 120], [1801, 120], [1824, 117], [1817, 116], [1961, 113], [1956, 113], [1940, 113], [1957, 112], [1815, 112], [1813, 112], [2007, 111], [1959, 110], [1948, 110], [1814, 107], [1802, 106], [1989, 105], [1988, 101], [1965, 99], [1963, 98], [1966, 96], [1941, 96], [1969, 94], [1990, 93], [1953, 93], [1799, 93], [1987, 92], [1971, 92], [1967, 90], [2002, 87], [1942, 87], [1964, 86], [1960, 84], [1970, 82], [1955, 80], [1943, 80], [1992, 78], [2003, 77], [1952, 77], [1968, 75], [1993, 73], [1991, 71], [1986, 70], [1996, 66], [1995, 65], [1975, 64], [1985, 63], [1976, 63], [1977, 62], [1954, 62], [1982, 61], [1962, 59], [1984, 58], [1980, 58], [1979, 57], [1981, 56], [1978, 55], [1972, 55], [1994, 53], [1949, 52], [1951, 48], [1947, 47], [2024, 46], [1997, 46], [1983, 45], [1974, 41], [1958, 33]]}, 'publisher': 'Wiley (John Wiley & Sons)', 'coverage': {'affiliations-current': 0.8291746641074856, 'similarity-checking-current': 0.9481765834932822, 'descriptions-current': 0.0, 'ror-ids-current': 0.0, 'funders-backfile': 0.0186033117350612, 'licenses-backfile': 0.9947588192944564, 'funders-current': 0.54510556621881, 'affiliations-backfile': 0.03245500359971202, 'resource-links-backfile': 0.994528437724982, 'orcids-backfile': 0.01552195824334053, 'update-policies-current': 0.9481765834932822, 'ror-ids-backfile': 0.0, 'orcids-current': 0.8080614203454894, 'similarity-checking-backfile': 0.9908135349172066, 'references-backfile': 0.6706983441324694, 'descriptions-backfile': 0.0, 'award-numbers-backfile': 0.01693304535637149, 'update-policies-backfile': 0.8821310295176386, 'licenses-current': 0.9481765834932822, 'award-numbers-current': 0.5163147792706334, 'abstracts-backfile': 0.1414254859611231, 'resource-links-current': 0.5182341650671785, 'abstracts-current': 0.8195777351247601, 'references-current': 0.8253358925143954}, 'title': 'Annalen der Physik', 'subjects': [{'ASJC': 3100, 'name': 'General Physics and Astronomy'}], 'coverage-type': {'all': {'last-status-check-time': 1712016454363, 'affiliations': 0.04422945982750794, 'abstracts': 0.1514412165229233, 'orcids': 0.02723558783477077, 'licenses': 0.9940138447571493, 'references': 0.6729459827507944, 'funders': 0.02638447571493418, 'similarity-checking': 0.9901838402178847, 'award-numbers': 0.02431343622333182, 'ror-ids': 0.0, 'update-policies': 0.883057194734453, 'resource-links': 0.9874319110304131, 'descriptions': 0.0}, 'backfile': {'last-status-check-time': 1712016454363, 'affiliations': 0.03245500359971202, 'abstracts': 0.1414254859611231, 'orcids': 0.01552195824334053, 'licenses': 0.9947588192944564, 'references': 0.6706983441324694, 'funders': 0.0186033117350612, 'similarity-checking': 0.9908135349172066, 'award-numbers': 0.01693304535637149, 'ror-ids': 0.0, 'update-policies': 0.8821310295176386, 'resource-links': 0.994528437724982, 'descriptions': 0.0}, 'current': {'last-status-check-time': 1712016454363, 'affiliations': 0.8291746641074856, 'abstracts': 0.8195777351247601, 'orcids': 0.8080614203454894, 'licenses': 0.9481765834932822, 'references': 0.8253358925143954, 'funders': 0.54510556621881, 'similarity-checking': 0.9481765834932822, 'award-numbers': 0.5163147792706334, 'ror-ids': 0.0, 'update-policies': 0.9481765834932822, 'resource-links': 0.5182341650671785, 'descriptions': 0.0}}, 'flags': {'deposits-abstracts-current': True, 'deposits-orcids-current': True, 'deposits': True, 'deposits-affiliations-backfile': True, 'deposits-update-policies-backfile': True, 'deposits-similarity-checking-backfile': True, 'deposits-award-numbers-current': True, 'deposits-resource-links-current': True, 'deposits-ror-ids-current': False, 'deposits-articles': True, 'deposits-affiliations-current': True, 'deposits-funders-current': True, 'deposits-references-backfile': True, 'deposits-ror-ids-backfile': False, 'deposits-abstracts-backfile': True, 'deposits-licenses-backfile': True, 'deposits-award-numbers-backfile': True, 'deposits-descriptions-current': False, 'deposits-references-current': True, 'deposits-resource-links-backfile': True, 'deposits-descriptions-backfile': False, 'deposits-orcids-backfile': True, 'deposits-funders-backfile': True, 'deposits-update-policies-current': True, 'deposits-similarity-checking-current': True, 'deposits-licenses-current': True}, 'ISSN': ['0003-3804', '1521-3889'], 'issn-type': [{'value': '0003-3804', 'type': 'print'}, {'value': '1521-3889', 'type': 'electronic'}]}, {'last-status-check-time': 1712016452149, 'counts': {'current-dois': 135, 'backfile-dois': 11927, 'total-dois': 12062}, 'breakdowns': {'dois-by-issued-year': [[1998, 372], [2000, 339], [1990, 315], [1997, 307], [2002, 305], [2003, 284], [2008, 265], [2005, 260], [1999, 259], [1973, 251], [2006, 249], [2004, 249], [1979, 246], [1978, 244], [2007, 240], [2013, 238], [1983, 236], [1971, 235], [1974, 229], [1975, 228], [1977, 227], [1972, 227], [2010, 226], [1984, 224], [2009, 223], [2001, 221], [1996, 220], [2011, 218], [1976, 218], [2016, 215], [2014, 206], [1995, 204], [1981, 203], [1993, 197], [1982, 197], [2015, 192], [1985, 191], [1991, 190], [1992, 188], [1989, 184], [1987, 184], [1980, 180], [1969, 180], [1986, 177], [1994, 176], [1968, 175], [1988, 159], [2012, 157], [1970, 142], [1967, 123], [2017, 122], [1966, 118], [2019, 84], [2021, 81], [2020, 79], [2018, 79], [1964, 68], [2023, 65], [1965, 63], [1963, 58], [2022, 57], [2024, 13]]}, 'publisher': 'Wiley (John Wiley & Sons)', 'coverage': {'affiliations-current': 0.4222222222222222, 'similarity-checking-current': 0.8074074074074074, 'descriptions-current': 0.0, 'ror-ids-current': 0.0, 'funders-backfile': 0.04762304016097929, 'licenses-backfile': 0.968642575668651, 'funders-current': 0.2888888888888889, 'affiliations-backfile': 0.07747128364215645, 'resource-links-backfile': 0.9667141779156536, 'orcids-backfile': 0.01743942315754171, 'update-policies-current': 0.8074074074074074, 'ror-ids-backfile': 0.0, 'orcids-current': 0.4074074074074074, 'similarity-checking-backfile': 0.9071015343338643, 'references-backfile': 0.7848578854699421, 'descriptions-backfile': 0.0, 'award-numbers-backfile': 0.03580112350129957, 'update-policies-backfile': 0.02171543556636204, 'licenses-current': 0.8074074074074074, 'award-numbers-current': 0.2444444444444444, 'abstracts-backfile': 0.6511276934686007, 'resource-links-current': 0.4074074074074074, 'abstracts-current': 0.4074074074074074, 'references-current': 0.4148148148148148}, 'title': 'Biopolymers', 'subjects': [{'ASJC': 1605, 'name': 'Organic Chemistry'}, {'ASJC': 2502, 'name': 'Biomaterials'}, {'ASJC': 1303, 'name': 'Biochemistry'}, {'ASJC': 2700, 'name': 'General Medicine'}, {'ASJC': 1304, 'name': 'Biophysics'}], 'coverage-type': {'all': {'last-status-check-time': 1712016452149, 'affiliations': 0.08131631299734748, 'abstracts': 0.6482924403183024, 'orcids': 0.02180039787798408, 'licenses': 0.9666777188328912, 'references': 0.7805868700265252, 'funders': 0.05031498673740053, 'similarity-checking': 0.9059184350132626, 'award-numbers': 0.03812997347480106, 'ror-ids': 0.0, 'update-policies': 0.03050397877984085, 'resource-links': 0.9602950928381963, 'descriptions': 0.0}, 'backfile': {'last-status-check-time': 1712016452149, 'affiliations': 0.07747128364215645, 'abstracts': 0.6511276934686007, 'orcids': 0.01743942315754171, 'licenses': 0.968642575668651, 'references': 0.7848578854699421, 'funders': 0.04762304016097929, 'similarity-checking': 0.9071015343338643, 'award-numbers': 0.03580112350129957, 'ror-ids': 0.0, 'update-policies': 0.02171543556636204, 'resource-links': 0.9667141779156536, 'descriptions': 0.0}, 'current': {'last-status-check-time': 1712016452149, 'affiliations': 0.4222222222222222, 'abstracts': 0.4074074074074074, 'orcids': 0.4074074074074074, 'licenses': 0.8074074074074074, 'references': 0.4148148148148148, 'funders': 0.2888888888888889, 'similarity-checking': 0.8074074074074074, 'award-numbers': 0.2444444444444444, 'ror-ids': 0.0, 'update-policies': 0.8074074074074074, 'resource-links': 0.4074074074074074, 'descriptions': 0.0}}, 'flags': {'deposits-abstracts-current': True, 'deposits-orcids-current': True, 'deposits': True, 'deposits-affiliations-backfile': True, 'deposits-update-policies-backfile': True, 'deposits-similarity-checking-backfile': True, 'deposits-award-numbers-current': True, 'deposits-resource-links-current': True, 'deposits-ror-ids-current': False, 'deposits-articles': True, 'deposits-affiliations-current': True, 'deposits-funders-current': True, 'deposits-references-backfile': True, 'deposits-ror-ids-backfile': False, 'deposits-abstracts-backfile': True, 'deposits-licenses-backfile': True, 'deposits-award-numbers-backfile': True, 'deposits-descriptions-current': False, 'deposits-references-current': True, 'deposits-resource-links-backfile': True, 'deposits-descriptions-backfile': False, 'deposits-orcids-backfile': True, 'deposits-funders-backfile': True, 'deposits-update-policies-current': True, 'deposits-similarity-checking-current': True, 'deposits-licenses-current': True}, 'ISSN': ['0006-3525', '1097-0282'], 'issn-type': [{'value': '0006-3525', 'type': 'print'}, {'value': '1097-0282', 'type': 'electronic'}]}, {'last-status-check-time': 1712016447121, 'counts': {'current-dois': 718, 'backfile-dois': 18122, 'total-dois': 18840}, 'breakdowns': {'dois-by-issued-year': [[2000, 758], [1998, 578], [1999, 573], [2006, 518], [2008, 496], [1997, 470], [2007, 467], [2010, 455], [2002, 452], [2011, 426], [2005, 417], [2015, 414], [2020, 412], [1989, 410], [2009, 409], [2012, 394], [2001, 393], [2013, 391], [2004, 390], [2003, 390], [2021, 376], [1992, 369], [1995, 359], [1993, 357], [1994, 356], [2019, 351], [1991, 348], [1987, 340], [2023, 338], [1988, 323], [2016, 322], [2017, 320], [1990, 319], [1996, 315], [2022, 313], [2014, 312], [2018, 282], [1983, 282], [1985, 275], [1981, 268], [1984, 267], [1986, 266], [1982, 266], [1980, 223], [1979, 211], [1978, 190], [1976, 186], [1977, 179], [1975, 179], [1974, 161], [1973, 112], [1969, 107], [1972, 95], [1971, 90], [1968, 84], [1970, 79], [2024, 67], [1965, 63], [1967, 62], [1964, 62], [1966, 60], [1962, 50], [1963, 43]]}, 'publisher': 'Wiley (John Wiley & Sons)', 'coverage': {'affiliations-current': 0.915041782729805, 'similarity-checking-current': 0.9080779944289694, 'descriptions-current': 0.0, 'ror-ids-current': 0.0, 'funders-backfile': 0.1079902880476769, 'licenses-backfile': 0.9791413751241586, 'funders-current': 0.4401114206128134, 'affiliations-backfile': 0.1441893830703013, 'resource-links-backfile': 0.9769892947798255, 'orcids-backfile': 0.083710407239819, 'update-policies-current': 0.9610027855153203, 'ror-ids-backfile': 0.0, 'orcids-current': 0.8788300835654596, 'similarity-checking-backfile': 0.9149652356252069, 'references-backfile': 0.814976271934665, 'descriptions-backfile': 0.0, 'award-numbers-backfile': 0.08784902328661295, 'update-policies-backfile': 0.07173601147776185, 'licenses-current': 0.9610027855153203, 'award-numbers-current': 0.1587743732590529, 'abstracts-backfile': 0.6467277342456682, 'resource-links-current': 0.5292479108635098, 'abstracts-current': 0.8885793871866295, 'references-current': 0.8899721448467967}, 'title': 'Biotechnology and Bioengineering', 'subjects': [{'ASJC': 2402, 'name': 'Applied Microbiology and Biotechnology'}, {'ASJC': 1502, 'name': 'Bioengineering'}, {'ASJC': 1305, 'name': 'Biotechnology'}], 'coverage-type': {'all': {'last-status-check-time': 1712016447121, 'affiliations': 0.1735576667905101, 'abstracts': 0.6559099835465209, 'orcids': 0.114006687543124, 'licenses': 0.9783981741945758, 'references': 0.8177909877395043, 'funders': 0.1206411549280824, 'similarity-checking': 0.9147072872989755, 'award-numbers': 0.09054721086991135, 'ror-ids': 0.0, 'update-policies': 0.1056207207685367, 'resource-links': 0.959874741255772, 'descriptions': 0.0}, 'backfile': {'last-status-check-time': 1712016447121, 'affiliations': 0.1441893830703013, 'abstracts': 0.6467277342456682, 'orcids': 0.083710407239819, 'licenses': 0.9791413751241586, 'references': 0.814976271934665, 'funders': 0.1079902880476769, 'similarity-checking': 0.9149652356252069, 'award-numbers': 0.08784902328661295, 'ror-ids': 0.0, 'update-policies': 0.07173601147776185, 'resource-links': 0.9769892947798255, 'descriptions': 0.0}, 'current': {'last-status-check-time': 1712016447121, 'affiliations': 0.915041782729805, 'abstracts': 0.8885793871866295, 'orcids': 0.8788300835654596, 'licenses': 0.9610027855153203, 'references': 0.8899721448467967, 'funders': 0.4401114206128134, 'similarity-checking': 0.9080779944289694, 'award-numbers': 0.1587743732590529, 'ror-ids': 0.0, 'update-policies': 0.9610027855153203, 'resource-links': 0.5292479108635098, 'descriptions': 0.0}}, 'flags': {'deposits-abstracts-current': True, 'deposits-orcids-current': True, 'deposits': True, 'deposits-affiliations-backfile': True, 'deposits-update-policies-backfile': True, 'deposits-similarity-checking-backfile': True, 'deposits-award-numbers-current': True, 'deposits-resource-links-current': True, 'deposits-ror-ids-current': False, 'deposits-articles': True, 'deposits-affiliations-current': True, 'deposits-funders-current': True, 'deposits-references-backfile': True, 'deposits-ror-ids-backfile': False, 'deposits-abstracts-backfile': True, 'deposits-licenses-backfile': True, 'deposits-award-numbers-backfile': True, 'deposits-descriptions-current': False, 'deposits-references-current': True, 'deposits-resource-links-backfile': True, 'deposits-descriptions-backfile': False, 'deposits-orcids-backfile': True, 'deposits-funders-backfile': True, 'deposits-update-policies-current': True, 'deposits-similarity-checking-current': True, 'deposits-licenses-current': True}, 'ISSN': ['0006-3592', '1097-0290'], 'issn-type': [{'value': '0006-3592', 'type': 'print'}, {'value': '1097-0290', 'type': 'electronic'}]}, {'last-status-check-time': 1712016463459, 'counts': {'current-dois': 1280, 'backfile-dois': 49782, 'total-dois': 51062}, 'breakdowns': {'dois-by-issued-year': [[1996, 1423], [1993, 1344], [1999, 1318], [2000, 1295], [1998, 1224], [1997, 1190], [2010, 1082], [1984, 1069], [1991, 1064], [1985, 1050], [1994, 1048], [1980, 1040], [1992, 1017], [2001, 1003], [1990, 1002], [1981, 984], [1986, 963], [2002, 954], [1987, 948], [2011, 927], [1982, 926], [1989, 915], [2005, 912], [1977, 910], [1988, 906], [2003, 878], [1995, 877], [2007, 854], [1983, 850], [2006, 848], [2004, 844], [2008, 821], [2009, 803], [1976, 785], [1978, 775], [2020, 737], [1979, 711], [2017, 710], [2014, 696], [2019, 690], [2021, 671], [2013, 657], [2015, 656], [2016, 646], [2018, 642], [1975, 614], [2012, 590], [2023, 574], [1974, 569], [2022, 557], [1972, 517], [1971, 501], [1973, 440], [1969, 428], [1970, 393], [1968, 344], [1967, 323], [1966, 303], [1965, 248], [1964, 222], [1960, 210], [1957, 209], [1956, 205], [1963, 201], [1958, 194], [1955, 180], [1961, 175], [1959, 173], [1962, 165], [1951, 161], [1952, 157], [1953, 152], [1954, 150], [2024, 149], [1950, 120], [1949, 113], [1948, 60]]}, 'publisher': 'Wiley (John Wiley & Sons)', 'coverage': {'affiliations-current': 0.76015625, 'similarity-checking-current': 0.52109375, 'descriptions-current': 0.0, 'ror-ids-current': 0.0, 'funders-backfile': 0.05423647101361938, 'licenses-backfile': 0.9929291711863726, 'funders-current': 0.24453125, 'affiliations-backfile': 0.1130127355268973, 'resource-links-backfile': 0.990719537182114, 'orcids-backfile': 0.05068096902494878, 'update-policies-current': 0.95234375, 'ror-ids-backfile': 0.0, 'orcids-current': 0.74296875, 'similarity-checking-backfile': 0.9459041420593789, 'references-backfile': 0.8564541400506207, 'descriptions-backfile': 0.0, 'award-numbers-backfile': 0.04125989313406452, 'update-policies-backfile': 0.05124342131694187, 'licenses-current': 0.95234375, 'award-numbers-current': 0.18359375, 'abstracts-backfile': 0.2413723835924631, 'resource-links-current': 0.52109375, 'abstracts-current': 0.76796875, 'references-current': 0.88046875}, 'title': 'Cancer', 'subjects': [{'ASJC': 1306, 'name': 'Cancer Research'}, {'ASJC': 2730, 'name': 'Oncology'}], 'coverage-type': {'all': {'last-status-check-time': 1712016463459, 'affiliations': 0.129229985900047, 'abstracts': 0.2545629014569951, 'orcids': 0.0680322732257559, 'licenses': 0.9918729437568541, 'references': 0.8570225599248003, 'funders': 0.05900438665204449, 'similarity-checking': 0.935257715807614, 'award-numbers': 0.04482610057966473, 'ror-ids': 0.0, 'update-policies': 0.07382892057026477, 'resource-links': 0.9789088203039323, 'descriptions': 0.0}, 'backfile': {'last-status-check-time': 1712016463459, 'affiliations': 0.1130127355268973, 'abstracts': 0.2413723835924631, 'orcids': 0.05068096902494878, 'licenses': 0.9929291711863726, 'references': 0.8564541400506207, 'funders': 0.05423647101361938, 'similarity-checking': 0.9459041420593789, 'award-numbers': 0.04125989313406452, 'ror-ids': 0.0, 'update-policies': 0.05124342131694187, 'resource-links': 0.990719537182114, 'descriptions': 0.0}, 'current': {'last-status-check-time': 1712016463459, 'affiliations': 0.76015625, 'abstracts': 0.76796875, 'orcids': 0.74296875, 'licenses': 0.95234375, 'references': 0.88046875, 'funders': 0.24453125, 'similarity-checking': 0.52109375, 'award-numbers': 0.18359375, 'ror-ids': 0.0, 'update-policies': 0.95234375, 'resource-links': 0.52109375, 'descriptions': 0.0}}, 'flags': {'deposits-abstracts-current': True, 'deposits-orcids-current': True, 'deposits': True, 'deposits-affiliations-backfile': True, 'deposits-update-policies-backfile': True, 'deposits-similarity-checking-backfile': True, 'deposits-award-numbers-current': True, 'deposits-resource-links-current': True, 'deposits-ror-ids-current': False, 'deposits-articles': True, 'deposits-affiliations-current': True, 'deposits-funders-current': True, 'deposits-references-backfile': True, 'deposits-ror-ids-backfile': False, 'deposits-abstracts-backfile': True, 'deposits-licenses-backfile': True, 'deposits-award-numbers-backfile': True, 'deposits-descriptions-current': False, 'deposits-references-current': True, 'deposits-resource-links-backfile': True, 'deposits-descriptions-backfile': False, 'deposits-orcids-backfile': True, 'deposits-funders-backfile': True, 'deposits-update-policies-current': True, 'deposits-similarity-checking-current': True, 'deposits-licenses-current': True}, 'ISSN': ['0008-543X', '1097-0142'], 'issn-type': [{'value': '0008-543X', 'type': 'print'}, {'value': '1097-0142', 'type': 'electronic'}]}, {'last-status-check-time': 1712016458281, 'counts': {'current-dois': 190, 'backfile-dois': 4044, 'total-dois': 4234}, 'breakdowns': {'dois-by-issued-year': [[2023, 115], [2020, 101], [2000, 87], [2019, 84], [1994, 83], [1998, 81], [2021, 77], [2017, 77], [2013, 76], [2018, 75], [1999, 75], [1996, 75], [2004, 74], [2003, 73], [2006, 72], [2014, 71], [1989, 70], [2015, 69], [2007, 69], [1988, 68], [1991, 67], [2001, 65], [1993, 65], [1985, 65], [2016, 64], [2012, 64], [1970, 64], [1961, 64], [2022, 62], [1992, 62], [1995, 61], [1997, 59], [1973, 59], [2005, 58], [1986, 57], [2011, 55], [2002, 55], [1990, 55], [1956, 55], [2010, 54], [2009, 54], [1976, 52], [1971, 51], [1965, 51], [1987, 49], [1980, 49], [1972, 49], [1983, 48], [1968, 48], [1955, 48], [2008, 47], [1969, 47], [1977, 46], [1984, 45], [1978, 44], [1960, 43], [1975, 42], [1974, 42], [1964, 42], [1967, 41], [1954, 40], [1982, 39], [1981, 39], [1959, 39], [1963, 37], [1966, 35], [1958, 34], [1979, 33], [1957, 32], [1962, 29], [1953, 29], [1951, 28], [1950, 28], [1952, 20], [1948, 20], [1949, 19], [2024, 13]]}, 'publisher': 'Wiley (John Wiley & Sons)', 'coverage': {'affiliations-current': 0.7052631578947368, 'similarity-checking-current': 0.8473684210526315, 'descriptions-current': 0.0, 'ror-ids-current': 0.0, 'funders-backfile': 0.02200791295746785, 'licenses-backfile': 0.9705736894164194, 'funders-current': 0.3421052631578947, 'affiliations-backfile': 0.1204253214638971, 'resource-links-backfile': 0.968595450049456, 'orcids-backfile': 0.0, 'update-policies-current': 0.8473684210526315, 'ror-ids-backfile': 0.0, 'orcids-current': 0.03157894736842105, 'similarity-checking-backfile': 0.9253214638971315, 'references-backfile': 0.6834817012858556, 'descriptions-backfile': 0.0, 'award-numbers-backfile': 0.01904055390702275, 'update-policies-backfile': 0.7601384767556874, 'licenses-current': 0.8473684210526315, 'award-numbers-current': 0.3368421052631579, 'abstracts-backfile': 0.3140454995054402, 'resource-links-current': 0.2894736842105263, 'abstracts-current': 0.7, 'references-current': 0.7052631578947368}, 'title': 'Communications on Pure and Applied Mathematics', 'subjects': [{'ASJC': 2604, 'name': 'Applied Mathematics'}, {'ASJC': 2600, 'name': 'General Mathematics'}], 'coverage-type': {'all': {'last-status-check-time': 1712016458281, 'affiliations': 0.1466351829988194, 'abstracts': 0.3312868949232586, 'orcids': 0.001416765053128689, 'licenses': 0.9648170011806375, 'references': 0.684297520661157, 'funders': 0.03636363636363636, 'similarity-checking': 0.9218417945690673, 'award-numbers': 0.0332939787485242, 'ror-ids': 0.0, 'update-policies': 0.7638724911452184, 'resource-links': 0.9378984651711924, 'descriptions': 0.0}, 'backfile': {'last-status-check-time': 1712016458281, 'affiliations': 0.1204253214638971, 'abstracts': 0.3140454995054402, 'orcids': 0.0, 'licenses': 0.9705736894164194, 'references': 0.6834817012858556, 'funders': 0.02200791295746785, 'similarity-checking': 0.9253214638971315, 'award-numbers': 0.01904055390702275, 'ror-ids': 0.0, 'update-policies': 0.7601384767556874, 'resource-links': 0.968595450049456, 'descriptions': 0.0}, 'current': {'last-status-check-time': 1712016458281, 'affiliations': 0.7052631578947368, 'abstracts': 0.7, 'orcids': 0.03157894736842105, 'licenses': 0.8473684210526315, 'references': 0.7052631578947368, 'funders': 0.3421052631578947, 'similarity-checking': 0.8473684210526315, 'award-numbers': 0.3368421052631579, 'ror-ids': 0.0, 'update-policies': 0.8473684210526315, 'resource-links': 0.2894736842105263, 'descriptions': 0.0}}, 'flags': {'deposits-abstracts-current': True, 'deposits-orcids-current': True, 'deposits': True, 'deposits-affiliations-backfile': True, 'deposits-update-policies-backfile': True, 'deposits-similarity-checking-backfile': True, 'deposits-award-numbers-current': True, 'deposits-resource-links-current': True, 'deposits-ror-ids-current': False, 'deposits-articles': True, 'deposits-affiliations-current': True, 'deposits-funders-current': True, 'deposits-references-backfile': True, 'deposits-ror-ids-backfile': False, 'deposits-abstracts-backfile': True, 'deposits-licenses-backfile': True, 'deposits-award-numbers-backfile': True, 'deposits-descriptions-current': False, 'deposits-references-current': True, 'deposits-resource-links-backfile': True, 'deposits-descriptions-backfile': False, 'deposits-orcids-backfile': False, 'deposits-funders-backfile': True, 'deposits-update-policies-current': True, 'deposits-similarity-checking-current': True, 'deposits-licenses-current': True}, 'ISSN': ['0010-3640', '1097-0312'], 'issn-type': [{'value': '0010-3640', 'type': 'print'}, {'value': '1097-0312', 'type': 'electronic'}]}, {'last-status-check-time': 1712016473311, 'counts': {'current-dois': 293, 'backfile-dois': 4445, 'total-dois': 4738}, 'breakdowns': {'dois-by-issued-year': [[2022, 151], [2021, 151], [2020, 141], [2019, 139], [2018, 132], [2015, 121], [2017, 111], [2016, 111], [2010, 111], [2011, 110], [2012, 109], [2013, 104], [2023, 103], [2008, 97], [1999, 93], [1998, 89], [2007, 88], [2014, 86], [1975, 86], [1981, 85], [2002, 83], [2000, 82], [1980, 82], [2005, 81], [2003, 81], [1976, 81], [2006, 80], [2001, 80], [1974, 80], [1973, 80], [1978, 79], [1990, 78], [1989, 78], [1988, 78], [1977, 78], [1996, 77], [1979, 77], [1997, 72], [1987, 71], [1968, 70], [1982, 69], [1992, 68], [1986, 68], [1984, 67], [1983, 66], [2009, 65], [1985, 60], [2004, 58], [1991, 58], [1994, 56], [1969, 53], [1993, 52], [1995, 51], [1972, 49], [2024, 39], [1970, 37], [1971, 36]]}, 'publisher': 'Wiley (John Wiley & Sons)', 'coverage': {'affiliations-current': 0.8122866894197952, 'similarity-checking-current': 0.9215017064846416, 'descriptions-current': 0.0, 'ror-ids-current': 0.0, 'funders-backfile': 0.1482564679415073, 'licenses-backfile': 0.9460067491563555, 'funders-current': 0.4709897610921502, 'affiliations-backfile': 0.2175478065241845, 'resource-links-backfile': 0.9455568053993251, 'orcids-backfile': 0.128458942632171, 'update-policies-current': 0.9215017064846416, 'ror-ids-backfile': 0.0, 'orcids-current': 0.7645051194539249, 'similarity-checking-backfile': 0.9073115860517434, 'references-backfile': 0.7829021372328459, 'descriptions-backfile': 0.0, 'award-numbers-backfile': 0.1219347581552306, 'update-policies-backfile': 0.1120359955005624, 'licenses-current': 0.9215017064846416, 'award-numbers-current': 0.3686006825938567, 'abstracts-backfile': 0.6863892013498313, 'resource-links-current': 0.5460750853242321, 'abstracts-current': 0.7918088737201365, 'references-current': 0.8088737201365188}, 'title': 'Developmental Psychobiology', 'subjects': [{'ASJC': 2802, 'name': 'Behavioral Neuroscience'}, {'ASJC': 1309, 'name': 'Developmental Biology'}, {'ASJC': 2806, 'name': 'Developmental Neuroscience'}, {'ASJC': 3204, 'name': 'Developmental and Educational Psychology'}], 'coverage-type': {'all': {'last-status-check-time': 1712016473311, 'affiliations': 0.2542730533867905, 'abstracts': 0.6927621861152142, 'orcids': 0.1677569107406626, 'licenses': 0.9442920447351763, 'references': 0.7843426883308715, 'funders': 0.16817894070479, 'similarity-checking': 0.908208482802279, 'award-numbers': 0.1371597383414222, 'ror-ids': 0.0, 'update-policies': 0.162059506224942, 'resource-links': 0.9206583667440388, 'descriptions': 0.0}, 'backfile': {'last-status-check-time': 1712016473311, 'affiliations': 0.2175478065241845, 'abstracts': 0.6863892013498313, 'orcids': 0.128458942632171, 'licenses': 0.9460067491563555, 'references': 0.7829021372328459, 'funders': 0.1482564679415073, 'similarity-checking': 0.9073115860517434, 'award-numbers': 0.1219347581552306, 'ror-ids': 0.0, 'update-policies': 0.1120359955005624, 'resource-links': 0.9455568053993251, 'descriptions': 0.0}, 'current': {'last-status-check-time': 1712016473311, 'affiliations': 0.8122866894197952, 'abstracts': 0.7918088737201365, 'orcids': 0.7645051194539249, 'licenses': 0.9215017064846416, 'references': 0.8088737201365188, 'funders': 0.4709897610921502, 'similarity-checking': 0.9215017064846416, 'award-numbers': 0.3686006825938567, 'ror-ids': 0.0, 'update-policies': 0.9215017064846416, 'resource-links': 0.5460750853242321, 'descriptions': 0.0}}, 'flags': {'deposits-abstracts-current': True, 'deposits-orcids-current': True, 'deposits': True, 'deposits-affiliations-backfile': True, 'deposits-update-policies-backfile': True, 'deposits-similarity-checking-backfile': True, 'deposits-award-numbers-current': True, 'deposits-resource-links-current': True, 'deposits-ror-ids-current': False, 'deposits-articles': True, 'deposits-affiliations-current': True, 'deposits-funders-current': True, 'deposits-references-backfile': True, 'deposits-ror-ids-backfile': False, 'deposits-abstracts-backfile': True, 'deposits-licenses-backfile': True, 'deposits-award-numbers-backfile': True, 'deposits-descriptions-current': False, 'deposits-references-current': True, 'deposits-resource-links-backfile': True, 'deposits-descriptions-backfile': False, 'deposits-orcids-backfile': True, 'deposits-funders-backfile': True, 'deposits-update-policies-current': True, 'deposits-similarity-checking-current': True, 'deposits-licenses-current': True}, 'ISSN': ['0012-1630', '1098-2302'], 'issn-type': [{'value': '0012-1630', 'type': 'print'}, {'value': '1098-2302', 'type': 'electronic'}]}, {'last-status-check-time': 1712016472776, 'counts': {'current-dois': 619, 'backfile-dois': 19212, 'total-dois': 19831}, 'breakdowns': {'dois-by-issued-year': [[1999, 673], [1998, 636], [2009, 609], [2000, 581], [1995, 577], [1993, 572], [1994, 536], [1992, 515], [1997, 513], [1996, 509], [2002, 508], [2001, 494], [1991, 486], [2011, 479], [2010, 471], [2014, 450], [2013, 450], [1990, 450], [2007, 442], [2005, 432], [2004, 418], [2015, 412], [2012, 412], [2003, 411], [1989, 403], [2006, 396], [2008, 388], [2016, 370], [1988, 361], [2021, 338], [1987, 338], [1986, 315], [2020, 303], [2018, 303], [2023, 301], [2017, 297], [2019, 273], [1985, 273], [2022, 260], [1984, 247], [1982, 225], [1983, 222], [1981, 218], [1979, 217], [1976, 214], [1975, 211], [1977, 207], [1973, 203], [1980, 200], [1974, 196], [1978, 193], [1972, 142], [1971, 123], [2024, 58]]}, 'publisher': 'Wiley (John Wiley & Sons)', 'coverage': {'affiliations-current': 0.7027463651050081, 'similarity-checking-current': 0.9499192245557351, 'descriptions-current': 0.0, 'ror-ids-current': 0.0, 'funders-backfile': 0.0859879242140329, 'licenses-backfile': 0.9930772433895482, 'funders-current': 0.3424878836833603, 'affiliations-backfile': 0.1374141161773891, 'resource-links-backfile': 0.9909952113262545, 'orcids-backfile': 0.04268165729752238, 'update-policies-current': 0.9499192245557351, 'ror-ids-backfile': 0.0, 'orcids-current': 0.5218093699515347, 'similarity-checking-backfile': 0.9577347491151365, 'references-backfile': 0.7980428898605039, 'descriptions-backfile': 0.0, 'award-numbers-backfile': 0.06865500728711223, 'update-policies-backfile': 0.05637101811367895, 'licenses-current': 0.9499192245557351, 'award-numbers-current': 0.3117932148626817, 'abstracts-backfile': 0.706641682281907, 'resource-links-current': 0.5137318255250404, 'abstracts-current': 0.6235864297253635, 'references-current': 0.7043618739903069}, 'title': 'European Journal of Immunology', 'subjects': [{'ASJC': 2403, 'name': 'Immunology'}, {'ASJC': 2723, 'name': 'Immunology and Allergy'}], 'coverage-type': {'all': {'last-status-check-time': 1712016472776, 'affiliations': 0.1550524405002017, 'abstracts': 0.7040137152077451, 'orcids': 0.05763412666397741, 'licenses': 0.9916801129487697, 'references': 0.7950786607503025, 'funders': 0.09398951189995966, 'similarity-checking': 0.957492940701896, 'award-numbers': 0.07624041952400161, 'ror-ids': 0.0, 'update-policies': 0.08425776522791448, 'resource-links': 0.9760488100040339, 'descriptions': 0.0}, 'backfile': {'last-status-check-time': 1712016472776, 'affiliations': 0.1374141161773891, 'abstracts': 0.706641682281907, 'orcids': 0.04268165729752238, 'licenses': 0.9930772433895482, 'references': 0.7980428898605039, 'funders': 0.0859879242140329, 'similarity-checking': 0.9577347491151365, 'award-numbers': 0.06865500728711223, 'ror-ids': 0.0, 'update-policies': 0.05637101811367895, 'resource-links': 0.9909952113262545, 'descriptions': 0.0}, 'current': {'last-status-check-time': 1712016472776, 'affiliations': 0.7027463651050081, 'abstracts': 0.6235864297253635, 'orcids': 0.5218093699515347, 'licenses': 0.9499192245557351, 'references': 0.7043618739903069, 'funders': 0.3424878836833603, 'similarity-checking': 0.9499192245557351, 'award-numbers': 0.3117932148626817, 'ror-ids': 0.0, 'update-policies': 0.9499192245557351, 'resource-links': 0.5137318255250404, 'descriptions': 0.0}}, 'flags': {'deposits-abstracts-current': True, 'deposits-orcids-current': True, 'deposits': True, 'deposits-affiliations-backfile': True, 'deposits-update-policies-backfile': True, 'deposits-similarity-checking-backfile': True, 'deposits-award-numbers-current': True, 'deposits-resource-links-current': True, 'deposits-ror-ids-current': False, 'deposits-articles': True, 'deposits-affiliations-current': True, 'deposits-funders-current': True, 'deposits-references-backfile': True, 'deposits-ror-ids-backfile': False, 'deposits-abstracts-backfile': True, 'deposits-licenses-backfile': True, 'deposits-award-numbers-backfile': True, 'deposits-descriptions-current': False, 'deposits-references-current': True, 'deposits-resource-links-backfile': True, 'deposits-descriptions-backfile': False, 'deposits-orcids-backfile': True, 'deposits-funders-backfile': True, 'deposits-update-policies-current': True, 'deposits-similarity-checking-current': True, 'deposits-licenses-current': True}, 'ISSN': ['0014-2980', '1521-4141'], 'issn-type': [{'value': '0014-2980', 'type': 'print'}, {'value': '1521-4141', 'type': 'electronic'}]}]}}\n"
     ]
    }
   ],
   "source": [
    "journals = cr.journals()\n",
    "print(journals)"
   ]
  },
  {
   "cell_type": "code",
   "execution_count": 75,
   "id": "ac98dc5e-dceb-4712-a8b5-9f4db3b02f3e",
   "metadata": {},
   "outputs": [
    {
     "data": {
      "text/plain": [
       "{'last-status-check-time': 1712016402765,\n",
       " 'counts': {'current-dois': 350, 'backfile-dois': 12233, 'total-dois': 12583},\n",
       " 'breakdowns': {'dois-by-issued-year': [[1999, 598],\n",
       "   [2000, 524],\n",
       "   [1996, 504],\n",
       "   [1997, 484],\n",
       "   [1998, 482],\n",
       "   [2001, 462],\n",
       "   [2002, 446],\n",
       "   [2007, 443],\n",
       "   [2006, 407],\n",
       "   [2008, 404],\n",
       "   [2004, 396],\n",
       "   [2003, 371],\n",
       "   [2009, 367],\n",
       "   [2005, 362],\n",
       "   [1995, 337],\n",
       "   [2016, 299],\n",
       "   [1993, 298],\n",
       "   [1994, 297],\n",
       "   [1992, 266],\n",
       "   [2011, 263],\n",
       "   [1990, 263],\n",
       "   [1991, 253],\n",
       "   [2010, 247],\n",
       "   [1989, 228],\n",
       "   [1988, 227],\n",
       "   [2021, 225],\n",
       "   [2014, 222],\n",
       "   [2020, 212],\n",
       "   [2017, 207],\n",
       "   [2012, 207],\n",
       "   [2019, 205],\n",
       "   [1987, 186],\n",
       "   [2018, 178],\n",
       "   [2013, 165],\n",
       "   [2022, 161],\n",
       "   [2015, 155],\n",
       "   [1986, 150],\n",
       "   [2023, 147],\n",
       "   [1984, 139],\n",
       "   [1982, 133],\n",
       "   [1985, 128],\n",
       "   [1983, 115],\n",
       "   [1981, 92],\n",
       "   [1980, 78],\n",
       "   [1979, 54],\n",
       "   [1976, 53],\n",
       "   [1975, 47],\n",
       "   [2024, 42],\n",
       "   [1977, 39],\n",
       "   [1978, 15]]},\n",
       " 'publisher': 'Wiley (John Wiley & Sons)',\n",
       " 'coverage': {'affiliations-current': 0.76,\n",
       "  'similarity-checking-current': 0.92,\n",
       "  'descriptions-current': 0.0,\n",
       "  'ror-ids-current': 0.0,\n",
       "  'funders-backfile': 0.1050437341616938,\n",
       "  'licenses-backfile': 0.9790729992642851,\n",
       "  'funders-current': 0.4857142857142857,\n",
       "  'affiliations-backfile': 0.1337366140766778,\n",
       "  'resource-links-backfile': 0.9752309327229625,\n",
       "  'orcids-backfile': 0.06564211558898063,\n",
       "  'update-policies-current': 0.92,\n",
       "  'ror-ids-backfile': 0.0,\n",
       "  'orcids-current': 0.54,\n",
       "  'similarity-checking-backfile': 0.8845745115670727,\n",
       "  'references-backfile': 0.7768331562167906,\n",
       "  'descriptions-backfile': 0.0,\n",
       "  'award-numbers-backfile': 0.08248181149350119,\n",
       "  'update-policies-backfile': 0.06090084198479523,\n",
       "  'licenses-current': 0.92,\n",
       "  'award-numbers-current': 0.2971428571428571,\n",
       "  'abstracts-backfile': 0.6384370146325513,\n",
       "  'resource-links-current': 0.5085714285714286,\n",
       "  'abstracts-current': 0.7371428571428571,\n",
       "  'references-current': 0.7628571428571429},\n",
       " 'title': 'Journal of Neuroscience Research',\n",
       " 'subjects': [{'ASJC': 2804, 'name': 'Cellular and Molecular Neuroscience'}],\n",
       " 'coverage-type': {'all': {'last-status-check-time': 1712016402765,\n",
       "   'affiliations': 0.1511443102352193,\n",
       "   'abstracts': 0.6411315956770502,\n",
       "   'orcids': 0.07883026064844247,\n",
       "   'licenses': 0.9773521932612842,\n",
       "   'references': 0.77638270820089,\n",
       "   'funders': 0.1156230133502861,\n",
       "   'similarity-checking': 0.8855689764780674,\n",
       "   'award-numbers': 0.08844564526382707,\n",
       "   'ror-ids': 0.0,\n",
       "   'update-policies': 0.08479020979020979,\n",
       "   'resource-links': 0.9621741894469167,\n",
       "   'descriptions': 0.0},\n",
       "  'backfile': {'last-status-check-time': 1712016402765,\n",
       "   'affiliations': 0.1337366140766778,\n",
       "   'abstracts': 0.6384370146325513,\n",
       "   'orcids': 0.06564211558898063,\n",
       "   'licenses': 0.9790729992642851,\n",
       "   'references': 0.7768331562167906,\n",
       "   'funders': 0.1050437341616938,\n",
       "   'similarity-checking': 0.8845745115670727,\n",
       "   'award-numbers': 0.08248181149350119,\n",
       "   'ror-ids': 0.0,\n",
       "   'update-policies': 0.06090084198479523,\n",
       "   'resource-links': 0.9752309327229625,\n",
       "   'descriptions': 0.0},\n",
       "  'current': {'last-status-check-time': 1712016402765,\n",
       "   'affiliations': 0.76,\n",
       "   'abstracts': 0.7371428571428571,\n",
       "   'orcids': 0.54,\n",
       "   'licenses': 0.92,\n",
       "   'references': 0.7628571428571429,\n",
       "   'funders': 0.4857142857142857,\n",
       "   'similarity-checking': 0.92,\n",
       "   'award-numbers': 0.2971428571428571,\n",
       "   'ror-ids': 0.0,\n",
       "   'update-policies': 0.92,\n",
       "   'resource-links': 0.5085714285714286,\n",
       "   'descriptions': 0.0}},\n",
       " 'flags': {'deposits-abstracts-current': True,\n",
       "  'deposits-orcids-current': True,\n",
       "  'deposits': True,\n",
       "  'deposits-affiliations-backfile': True,\n",
       "  'deposits-update-policies-backfile': True,\n",
       "  'deposits-similarity-checking-backfile': True,\n",
       "  'deposits-award-numbers-current': True,\n",
       "  'deposits-resource-links-current': True,\n",
       "  'deposits-ror-ids-current': False,\n",
       "  'deposits-articles': True,\n",
       "  'deposits-affiliations-current': True,\n",
       "  'deposits-funders-current': True,\n",
       "  'deposits-references-backfile': True,\n",
       "  'deposits-ror-ids-backfile': False,\n",
       "  'deposits-abstracts-backfile': True,\n",
       "  'deposits-licenses-backfile': True,\n",
       "  'deposits-award-numbers-backfile': True,\n",
       "  'deposits-descriptions-current': False,\n",
       "  'deposits-references-current': True,\n",
       "  'deposits-resource-links-backfile': True,\n",
       "  'deposits-descriptions-backfile': False,\n",
       "  'deposits-orcids-backfile': True,\n",
       "  'deposits-funders-backfile': True,\n",
       "  'deposits-update-policies-current': True,\n",
       "  'deposits-similarity-checking-current': True,\n",
       "  'deposits-licenses-current': True},\n",
       " 'ISSN': ['0360-4012', '1097-4547'],\n",
       " 'issn-type': [{'value': '0360-4012', 'type': 'print'},\n",
       "  {'value': '1097-4547', 'type': 'electronic'}]}"
      ]
     },
     "execution_count": 75,
     "metadata": {},
     "output_type": "execute_result"
    }
   ],
   "source": [
    "journals['message']['items'][0]"
   ]
  },
  {
   "cell_type": "code",
   "execution_count": null,
   "id": "38128864-ca95-4f9b-8031-3ab0a62b84c6",
   "metadata": {},
   "outputs": [],
   "source": []
  }
 ],
 "metadata": {
  "kernelspec": {
   "display_name": "Python 3 (ipykernel)",
   "language": "python",
   "name": "python3"
  },
  "language_info": {
   "codemirror_mode": {
    "name": "ipython",
    "version": 3
   },
   "file_extension": ".py",
   "mimetype": "text/x-python",
   "name": "python",
   "nbconvert_exporter": "python",
   "pygments_lexer": "ipython3",
   "version": "3.12.2"
  }
 },
 "nbformat": 4,
 "nbformat_minor": 5
}
